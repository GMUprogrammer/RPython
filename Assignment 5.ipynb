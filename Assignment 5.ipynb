{
 "cells": [
  {
   "cell_type": "code",
   "execution_count": 4,
   "metadata": {},
   "outputs": [],
   "source": [
    "import numpy as np"
   ]
  },
  {
   "cell_type": "code",
   "execution_count": 7,
   "metadata": {},
   "outputs": [
    {
     "data": {
      "text/plain": [
       "array([0.17708049, 0.70592764, 0.21065995, 0.45682909, 0.77454979])"
      ]
     },
     "execution_count": 7,
     "metadata": {},
     "output_type": "execute_result"
    }
   ],
   "source": [
    "# 4\n",
    "Z = (np.random.rand(5)-0)/(1)\n",
    "Z"
   ]
  },
  {
   "cell_type": "code",
   "execution_count": 12,
   "metadata": {},
   "outputs": [
    {
     "data": {
      "text/plain": [
       "array([1, 8, 1, 8, 7, 0, 5, 2, 5, 8])"
      ]
     },
     "execution_count": 12,
     "metadata": {},
     "output_type": "execute_result"
    }
   ],
   "source": [
    "# 5\n",
    "Z = np.random.uniform(0,10,10)\n",
    "Z = np.array(Z, dtype='int32')\n",
    "Z"
   ]
  },
  {
   "cell_type": "code",
   "execution_count": 18,
   "metadata": {},
   "outputs": [
    {
     "data": {
      "text/plain": [
       "array([  -1,   -2,   -3,   -4,   -5,   -6,   -7,   -8,   -9,  -10,  -11,\n",
       "        -12,  -13,  -14,  -15,  -16,  -17,  -18,  -19,  -20,  -21,  -22,\n",
       "        -23,  -24,  -25,  -26,  -27,  -28,  -29,  -30,  -31,  -32,  -33,\n",
       "        -34,  -35,  -36,  -37,  -38,  -39,  -40,  -41,  -42,  -43,  -44,\n",
       "        -45,  -46,  -47,  -48,  -49,  -50,  -51,  -52,  -53,  -54,  -55,\n",
       "        -56,  -57,  -58,  -59,  -60,  -61,  -62,  -63,  -64,  -65,  -66,\n",
       "        -67,  -68,  -69,  -70,  -71,  -72,  -73,  -74,  -75,  -76,  -77,\n",
       "        -78,  -79,  -80,  -81,  -82,  -83,  -84,  -85,  -86,  -87,  -88,\n",
       "        -89,  -90,  -91,  -92,  -93,  -94,  -95,  -96,  -97,  -98,  -99,\n",
       "       -100])"
      ]
     },
     "execution_count": 18,
     "metadata": {},
     "output_type": "execute_result"
    }
   ],
   "source": [
    "# 6\n",
    "x = np.arange(1,101,1) * -1\n",
    "x"
   ]
  },
  {
   "cell_type": "code",
   "execution_count": 20,
   "metadata": {},
   "outputs": [
    {
     "data": {
      "text/plain": [
       "array([68. , 69.8, 71.6, 73.4, 75.2, 77. , 78.8, 80.6, 82.4, 84.2, 86. ])"
      ]
     },
     "execution_count": 20,
     "metadata": {},
     "output_type": "execute_result"
    }
   ],
   "source": [
    "# 7\n",
    "degrees_c = np.arange(20,31)\n",
    "degrees_f = degrees_c*9/5 + 32\n",
    "degrees_f"
   ]
  },
  {
   "cell_type": "code",
   "execution_count": 119,
   "metadata": {},
   "outputs": [
    {
     "data": {
      "text/plain": [
       "array([[-1.0856306 ,  0.99734545,  0.2829785 , -1.50629471],\n",
       "       [-0.57860025,  1.65143654, -2.42667924, -0.42891263],\n",
       "       [ 1.26593626, -0.8667404 , -0.67888615, -0.09470897],\n",
       "       [ 1.49138963, -0.638902  , -0.44398196, -0.43435128],\n",
       "       [ 2.20593008,  2.18678609,  1.0040539 ,  0.3861864 ],\n",
       "       [ 0.73736858,  1.49073203, -0.93583387,  1.17582904]])"
      ]
     },
     "execution_count": 119,
     "metadata": {},
     "output_type": "execute_result"
    }
   ],
   "source": [
    "np.random.seed(123)\n",
    "mat = np.random.randn(6,4); mat"
   ]
  },
  {
   "cell_type": "code",
   "execution_count": 120,
   "metadata": {},
   "outputs": [
    {
     "data": {
      "text/plain": [
       "array([[0.33768877],\n",
       "       [0.56068263],\n",
       "       [3.54641154],\n",
       "       [4.44326571],\n",
       "       [9.07869158],\n",
       "       [2.09042747]])"
      ]
     },
     "execution_count": 120,
     "metadata": {},
     "output_type": "execute_result"
    }
   ],
   "source": [
    "# 8\n",
    "y = np.exp(mat[::,0])\n",
    "y = y[:, np.newaxis]\n",
    "y"
   ]
  },
  {
   "cell_type": "code",
   "execution_count": 121,
   "metadata": {},
   "outputs": [
    {
     "data": {
      "text/plain": [
       "array([[-1.0856306 ,  0.99734545,  0.2829785 , -1.50629471,  0.33768877],\n",
       "       [-0.57860025,  1.65143654, -2.42667924, -0.42891263,  0.56068263],\n",
       "       [ 1.26593626, -0.8667404 , -0.67888615, -0.09470897,  3.54641154],\n",
       "       [ 1.49138963, -0.638902  , -0.44398196, -0.43435128,  4.44326571],\n",
       "       [ 2.20593008,  2.18678609,  1.0040539 ,  0.3861864 ,  9.07869158],\n",
       "       [ 0.73736858,  1.49073203, -0.93583387,  1.17582904,  2.09042747]])"
      ]
     },
     "execution_count": 121,
     "metadata": {},
     "output_type": "execute_result"
    }
   ],
   "source": [
    "mat = np.hstack((mat, y))\n",
    "mat"
   ]
  },
  {
   "cell_type": "code",
   "execution_count": 141,
   "metadata": {},
   "outputs": [
    {
     "name": "stdout",
     "output_type": "stream",
     "text": [
      "[[-0.0856306   1.2829785   1.33768877]\n",
      " [ 0.42139975 -1.42667924  1.56068263]\n",
      " [ 2.26593626  0.32111385  4.54641154]\n",
      " [ 2.49138963  0.55601804  5.44326571]\n",
      " [ 3.20593008  2.0040539  10.07869158]\n",
      " [ 1.73736858  0.06416613  3.09042747]]\n",
      "[[-0.00265455 -2.50629471]\n",
      " [ 0.65143654 -1.42891263]\n",
      " [-1.8667404  -1.09470897]\n",
      " [-1.638902   -1.43435128]\n",
      " [ 1.18678609 -0.6138136 ]\n",
      " [ 0.49073203  0.17582904]]\n"
     ]
    }
   ],
   "source": [
    "# 9 \n",
    "print(mat[::,::2] + 1, mat[::,1::2] - 1, sep=\"\\n\")"
   ]
  },
  {
   "cell_type": "code",
   "execution_count": 142,
   "metadata": {},
   "outputs": [
    {
     "name": "stdout",
     "output_type": "stream",
     "text": [
      "[[-0.10856306  0.09973454  0.02829785 -0.15062947  0.03376888]\n",
      " [-0.05786003  0.16514365 -0.24266792 -0.04289126  0.05606826]\n",
      " [ 0.12659363 -0.08667404 -0.06788862 -0.0094709   0.35464115]]\n",
      "[[14.91389626 -6.38901997 -4.4398196  -4.34351276 44.43265709]\n",
      " [22.05930083 21.86786089 10.04053898  3.86186399 90.78691576]\n",
      " [ 7.37368576 14.90732028 -9.35833868 11.75829045 20.90427469]]\n"
     ]
    }
   ],
   "source": [
    "# 10\n",
    "print(mat[:3]/10, mat[3:]*10, sep=\"\\n\")\n"
   ]
  },
  {
   "cell_type": "code",
   "execution_count": 143,
   "metadata": {},
   "outputs": [
    {
     "name": "stdout",
     "output_type": "stream",
     "text": [
      "[ 1.00165242  1.24403874 -0.56143406 -0.2618108   2.81841951]\n",
      "[[-1.0856306  -0.8667404  -2.42667924 -1.50629471  0.33768877]\n",
      " [ 1.37866294  1.57108428 -0.08050173  0.14573872  3.99483862]\n",
      " [ 2.20593008  2.18678609  1.0040539   1.17582904  9.07869158]]\n"
     ]
    }
   ],
   "source": [
    "# 11\n",
    "print(np.median(mat, 0), np.percentile(mat, [0, 70, 100], 0), sep=\"\\n\")"
   ]
  },
  {
   "cell_type": "code",
   "execution_count": 150,
   "metadata": {
    "scrolled": true
   },
   "outputs": [
    {
     "name": "stdout",
     "output_type": "stream",
     "text": [
      "[ 4.44326571  1.49138963 -0.43435128 -0.44398196 -0.638902  ]\n"
     ]
    }
   ],
   "source": [
    "# 12\n",
    "x = np.sort(mat[3,::])\n",
    "x = x[::-1]\n",
    "print(x)"
   ]
  },
  {
   "cell_type": "code",
   "execution_count": 158,
   "metadata": {},
   "outputs": [
    {
     "data": {
      "text/plain": [
       "array([[0],\n",
       "       [0],\n",
       "       [1],\n",
       "       [1],\n",
       "       [1],\n",
       "       [0]])"
      ]
     },
     "execution_count": 158,
     "metadata": {},
     "output_type": "execute_result"
    }
   ],
   "source": [
    "# 13\n",
    "greater_3 = mat > 3\n",
    "x = np.sum(greater_3, 1)\n",
    "x[:, np.newaxis]"
   ]
  },
  {
   "cell_type": "code",
   "execution_count": 164,
   "metadata": {},
   "outputs": [
    {
     "data": {
      "text/plain": [
       "(array([0, 0, 1, 2, 2, 2, 3, 3, 3, 4, 4, 4, 4, 4, 5, 5, 5], dtype=int64),\n",
       " array([1, 2, 1, 0, 3, 4, 0, 2, 4, 0, 1, 2, 3, 4, 0, 1, 3], dtype=int64))"
      ]
     },
     "execution_count": 164,
     "metadata": {},
     "output_type": "execute_result"
    }
   ],
   "source": [
    "# 14\n",
    "where = mat > np.mean(mat, 0)\n",
    "np.nonzero(where)"
   ]
  },
  {
   "cell_type": "code",
   "execution_count": 169,
   "metadata": {},
   "outputs": [
    {
     "data": {
      "text/plain": [
       "array([[2966, 2249, 1716],\n",
       "       [2249, 3070, 2791],\n",
       "       [1716, 2791, 2778]])"
      ]
     },
     "execution_count": 169,
     "metadata": {},
     "output_type": "execute_result"
    }
   ],
   "source": [
    "# 15\n",
    "np.random.seed(123)\n",
    "M = np.random.randint(1,50,(3,3))\n",
    "M@np.transpose(M)"
   ]
  },
  {
   "cell_type": "code",
   "execution_count": 172,
   "metadata": {},
   "outputs": [
    {
     "data": {
      "text/plain": [
       "25347.999999999975"
      ]
     },
     "execution_count": 172,
     "metadata": {},
     "output_type": "execute_result"
    }
   ],
   "source": [
    "np.linalg.det(M)"
   ]
  },
  {
   "cell_type": "code",
   "execution_count": 173,
   "metadata": {},
   "outputs": [
    {
     "data": {
      "text/plain": [
       "array([[ 0.00485245,  0.04647309, -0.04248856],\n",
       "       [-0.01755563,  0.0188575 ,  0.00737731],\n",
       "       [ 0.02860186, -0.07566672,  0.06663248]])"
      ]
     },
     "execution_count": 173,
     "metadata": {},
     "output_type": "execute_result"
    }
   ],
   "source": [
    "np.linalg.inv(M)"
   ]
  }
 ],
 "metadata": {
  "kernelspec": {
   "display_name": "Python 3",
   "language": "python",
   "name": "python3"
  },
  "language_info": {
   "codemirror_mode": {
    "name": "ipython",
    "version": 3
   },
   "file_extension": ".py",
   "mimetype": "text/x-python",
   "name": "python",
   "nbconvert_exporter": "python",
   "pygments_lexer": "ipython3",
   "version": "3.7.1"
  }
 },
 "nbformat": 4,
 "nbformat_minor": 2
}
