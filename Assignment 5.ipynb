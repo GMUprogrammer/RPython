{
 "cells": [
  {
   "cell_type": "code",
   "execution_count": 1,
   "metadata": {},
   "outputs": [],
   "source": [
    "import numpy as np"
   ]
  },
  {
   "cell_type": "code",
   "execution_count": 89,
   "metadata": {},
   "outputs": [
    {
     "data": {
      "text/plain": [
       "array([[20, 11, 11, 29, 12],\n",
       "       [28, 11, 20, 13, 13]])"
      ]
     },
     "execution_count": 89,
     "metadata": {},
     "output_type": "execute_result"
    }
   ],
   "source": [
    "#(1)\tGenerate a 2 dimensional array with shape (2, 5) by randomly extracting 10 integers between 10 and 30 inclusive.\n",
    "np.random.randint(10,31, (2,5))"
   ]
  },
  {
   "cell_type": "code",
   "execution_count": 104,
   "metadata": {},
   "outputs": [
    {
     "data": {
      "text/plain": [
       "array([[[ 0.90528104],\n",
       "        [-1.68217487],\n",
       "        [ 0.31997341]],\n",
       "\n",
       "       [[-0.30444759],\n",
       "        [ 0.05024274],\n",
       "        [ 0.08942251]],\n",
       "\n",
       "       [[ 0.60475687],\n",
       "        [-0.97328202],\n",
       "        [ 1.27965574]]])"
      ]
     },
     "execution_count": 104,
     "metadata": {},
     "output_type": "execute_result"
    }
   ],
   "source": [
    "#(2)\tExtract 9 random numbers from the standard normal distribution and use them to create an array with shape (3, 3, 1).\n",
    "np.random.randn(3,3,1)"
   ]
  },
  {
   "cell_type": "code",
   "execution_count": 97,
   "metadata": {},
   "outputs": [
    {
     "data": {
      "text/plain": [
       "array([[0.66745893, 0.86947656, 0.47225482, 0.37250663, 0.69343317,\n",
       "        0.14731378]])"
      ]
     },
     "execution_count": 97,
     "metadata": {},
     "output_type": "execute_result"
    }
   ],
   "source": [
    "#(3)\tRandomly extract 6 real numbers between 0 and 1 and use them to create a one-dimensional array.\n",
    "np.random.rand(6).reshape(1,6)"
   ]
  },
  {
   "cell_type": "code",
   "execution_count": 101,
   "metadata": {},
   "outputs": [
    {
     "data": {
      "text/plain": [
       "array([[1. , 0. , 0. , 0. , 0. , 0. , 0. ],\n",
       "       [0. , 1.5, 0. , 0. , 0. , 0. , 0. ],\n",
       "       [0. , 0. , 2. , 0. , 0. , 0. , 0. ],\n",
       "       [0. , 0. , 0. , 2.5, 0. , 0. , 0. ],\n",
       "       [0. , 0. , 0. , 0. , 3. , 0. , 0. ],\n",
       "       [0. , 0. , 0. , 0. , 0. , 3.5, 0. ],\n",
       "       [0. , 0. , 0. , 0. , 0. , 0. , 4. ]])"
      ]
     },
     "execution_count": 101,
     "metadata": {},
     "output_type": "execute_result"
    }
   ],
   "source": [
    "#(4)\tCreate a two-dimensional diagonal matrix with the diagonal elements 1, 1.5, 2, 2.5, ... , 4.\n",
    "np.diag(np.arange(1,4.1,0.5))"
   ]
  },
  {
   "cell_type": "code",
   "execution_count": 106,
   "metadata": {},
   "outputs": [
    {
     "data": {
      "text/plain": [
       "array([[0, 0, 0, 0, 0, 0, 0, 0],\n",
       "       [0, 0, 0, 0, 0, 0, 0, 0],\n",
       "       [0, 0, 0, 0, 0, 0, 0, 0],\n",
       "       [0, 0, 0, 0, 0, 0, 0, 0],\n",
       "       [0, 0, 0, 0, 0, 0, 0, 0],\n",
       "       [0, 0, 0, 0, 0, 0, 0, 0],\n",
       "       [0, 0, 0, 0, 0, 0, 0, 0],\n",
       "       [0, 0, 0, 0, 0, 0, 0, 0]], dtype=int64)"
      ]
     },
     "execution_count": 106,
     "metadata": {},
     "output_type": "execute_result"
    }
   ],
   "source": [
    "Z = np.zeros((8,8), dtype=np.int64)\n",
    "Z"
   ]
  },
  {
   "cell_type": "code",
   "execution_count": 108,
   "metadata": {},
   "outputs": [
    {
     "data": {
      "text/plain": [
       "array([[0, 1, 0, 1, 0, 1, 0, 1],\n",
       "       [1, 0, 1, 0, 1, 0, 1, 0],\n",
       "       [0, 1, 0, 1, 0, 1, 0, 1],\n",
       "       [1, 0, 1, 0, 1, 0, 1, 0],\n",
       "       [0, 1, 0, 1, 0, 1, 0, 1],\n",
       "       [1, 0, 1, 0, 1, 0, 1, 0],\n",
       "       [0, 1, 0, 1, 0, 1, 0, 1],\n",
       "       [1, 0, 1, 0, 1, 0, 1, 0]], dtype=int64)"
      ]
     },
     "execution_count": 108,
     "metadata": {},
     "output_type": "execute_result"
    }
   ],
   "source": [
    "Z[1::2,::2] = 1\n",
    "Z[0::2,1::2] = 1\n",
    "Z"
   ]
  },
  {
   "cell_type": "code",
   "execution_count": 114,
   "metadata": {},
   "outputs": [
    {
     "data": {
      "text/plain": [
       "array([[ 0,  1,  2,  3,  4,  5],\n",
       "       [10, 11, 12, 13, 14, 15],\n",
       "       [20, 21, 22, 23, 24, 25],\n",
       "       [30, 31, 32, 33, 34, 35],\n",
       "       [40, 41, 42, 43, 44, 45],\n",
       "       [50, 51, 52, 53, 54, 55]])"
      ]
     },
     "execution_count": 114,
     "metadata": {},
     "output_type": "execute_result"
    }
   ],
   "source": [
    "#3 \tCreate the 2-dimensional 6×5 ndarray as the picture below.\n",
    "six_five = np.array([[0+10*x, 1+10*x, 2+10*x, 3+10*x, 4+10*x, 5+10*x] for x in range(6)])\n",
    "six_five"
   ]
  },
  {
   "cell_type": "code",
   "execution_count": 110,
   "metadata": {},
   "outputs": [
    {
     "data": {
      "text/plain": [
       "array([3, 4])"
      ]
     },
     "execution_count": 110,
     "metadata": {},
     "output_type": "execute_result"
    }
   ],
   "source": [
    "#3 (1)\tWrite the code to select the values in orange box as a one-dimensional ndarray.\n",
    "six_five[0,3:5]"
   ]
  },
  {
   "cell_type": "code",
   "execution_count": 118,
   "metadata": {},
   "outputs": [
    {
     "data": {
      "text/plain": [
       "array([[44, 45],\n",
       "       [54, 55]])"
      ]
     },
     "execution_count": 118,
     "metadata": {},
     "output_type": "execute_result"
    }
   ],
   "source": [
    "#3 (2)\tWrite the code to select the values in cyan box as a two-dimensional ndarray with shape (2,2).\n",
    "six_five[4:,4:]"
   ]
  },
  {
   "cell_type": "code",
   "execution_count": null,
   "metadata": {},
   "outputs": [],
   "source": [
    "#3-3\n",
    "six_five[::,2]"
   ]
  },
  {
   "cell_type": "code",
   "execution_count": 122,
   "metadata": {},
   "outputs": [
    {
     "data": {
      "text/plain": [
       "array([[ 2],\n",
       "       [12],\n",
       "       [22],\n",
       "       [32],\n",
       "       [42],\n",
       "       [52]])"
      ]
     },
     "execution_count": 122,
     "metadata": {},
     "output_type": "execute_result"
    }
   ],
   "source": [
    "#3-4\n",
    "six_five[::,2].reshape(6,1)"
   ]
  },
  {
   "cell_type": "code",
   "execution_count": 124,
   "metadata": {},
   "outputs": [
    {
     "data": {
      "text/plain": [
       "array([[ 0,  1,  0,  3,  4,  5],\n",
       "       [10, 11,  1, 13, 14, 15],\n",
       "       [20, 21,  2, 23, 24, 25],\n",
       "       [30, 31,  3, 33, 34, 35],\n",
       "       [40, 41,  4, 43, 44, 45],\n",
       "       [50, 51,  5, 53, 54, 55]])"
      ]
     },
     "execution_count": 124,
     "metadata": {},
     "output_type": "execute_result"
    }
   ],
   "source": [
    "#3-5\n",
    "six_five[::,2] = range(6)\n",
    "six_five"
   ]
  },
  {
   "cell_type": "code",
   "execution_count": 127,
   "metadata": {},
   "outputs": [
    {
     "data": {
      "text/plain": [
       "array([[20,  2, 24],\n",
       "       [40,  4, 44]])"
      ]
     },
     "execution_count": 127,
     "metadata": {},
     "output_type": "execute_result"
    }
   ],
   "source": [
    "#3-6\n",
    "six_five[2::2, ::2]"
   ]
  },
  {
   "cell_type": "code",
   "execution_count": 140,
   "metadata": {},
   "outputs": [
    {
     "data": {
      "text/plain": [
       "array([[ 0,  1,  0,  3,  4,  5],\n",
       "       [10, 11,  1, 13, 14, 15],\n",
       "       [ 1, 21,  2, 23,  3, 25],\n",
       "       [30, 31,  3, 33, 34, 35],\n",
       "       [ 4, 41,  5, 43,  6, 45],\n",
       "       [50, 51,  5, 53, 54, 55]])"
      ]
     },
     "execution_count": 140,
     "metadata": {},
     "output_type": "execute_result"
    }
   ],
   "source": [
    "#3-7\n",
    "six_five[2::2,::2] = np.arange(1,7).reshape(2,3)\n",
    "six_five"
   ]
  },
  {
   "cell_type": "code",
   "execution_count": 143,
   "metadata": {},
   "outputs": [
    {
     "data": {
      "text/plain": [
       "array([0.74819723, 0.42483844, 1.        , 0.35868983, 0.        ])"
      ]
     },
     "execution_count": 143,
     "metadata": {},
     "output_type": "execute_result"
    }
   ],
   "source": [
    "# 4\n",
    "Z = np.random.rand(5)\n",
    "Z = (Z- np.min(Z)) / (np.max(Z) - np.min(Z))\n",
    "np.min(Z)"
   ]
  },
  {
   "cell_type": "code",
   "execution_count": 150,
   "metadata": {},
   "outputs": [
    {
     "data": {
      "text/plain": [
       "array([9., 9., 7., 1., 7., 9., 9., 1., 0., 2.])"
      ]
     },
     "execution_count": 150,
     "metadata": {},
     "output_type": "execute_result"
    }
   ],
   "source": [
    "# 5\n",
    "Z = np.random.uniform(0,10,10)\n",
    "Z // 1"
   ]
  },
  {
   "cell_type": "code",
   "execution_count": 152,
   "metadata": {},
   "outputs": [
    {
     "data": {
      "text/plain": [
       "array([   1,   -2,    3,   -4,    5,   -6,    7,   -8,    9,  -10,   11,\n",
       "        -12,   13,  -14,   15,  -16,   17,  -18,   19,  -20,   21,  -22,\n",
       "         23,  -24,   25,  -26,   27,  -28,   29,  -30,   31,  -32,   33,\n",
       "        -34,   35,  -36,   37,  -38,   39,  -40,   41,  -42,   43,  -44,\n",
       "         45,  -46,   47,  -48,   49,  -50,   51,  -52,   53,  -54,   55,\n",
       "        -56,   57,  -58,   59,  -60,   61,  -62,   63,  -64,   65,  -66,\n",
       "         67,  -68,   69,  -70,   71,  -72,   73,  -74,   75,  -76,   77,\n",
       "        -78,   79,  -80,   81,  -82,   83,  -84,   85,  -86,   87,  -88,\n",
       "         89,  -90,   91,  -92,   93,  -94,   95,  -96,   97,  -98,   99,\n",
       "       -100])"
      ]
     },
     "execution_count": 152,
     "metadata": {},
     "output_type": "execute_result"
    }
   ],
   "source": [
    "# 6\n",
    "x = np.arange(1,101,1) \n",
    "x[1::2] *= -1\n",
    "x"
   ]
  },
  {
   "cell_type": "code",
   "execution_count": 20,
   "metadata": {},
   "outputs": [
    {
     "data": {
      "text/plain": [
       "array([68. , 69.8, 71.6, 73.4, 75.2, 77. , 78.8, 80.6, 82.4, 84.2, 86. ])"
      ]
     },
     "execution_count": 20,
     "metadata": {},
     "output_type": "execute_result"
    }
   ],
   "source": [
    "# 7\n",
    "degrees_c = np.arange(20,31)\n",
    "degrees_f = degrees_c*9/5 + 32\n",
    "degrees_f"
   ]
  },
  {
   "cell_type": "code",
   "execution_count": 173,
   "metadata": {},
   "outputs": [
    {
     "data": {
      "text/plain": [
       "array([[-1.0856306 ,  0.99734545,  0.2829785 , -1.50629471],\n",
       "       [-0.57860025,  1.65143654, -2.42667924, -0.42891263],\n",
       "       [ 1.26593626, -0.8667404 , -0.67888615, -0.09470897],\n",
       "       [ 1.49138963, -0.638902  , -0.44398196, -0.43435128],\n",
       "       [ 2.20593008,  2.18678609,  1.0040539 ,  0.3861864 ],\n",
       "       [ 0.73736858,  1.49073203, -0.93583387,  1.17582904]])"
      ]
     },
     "execution_count": 173,
     "metadata": {},
     "output_type": "execute_result"
    }
   ],
   "source": [
    "np.random.seed(123)\n",
    "mat = np.random.randn(6,4); mat"
   ]
  },
  {
   "cell_type": "code",
   "execution_count": 174,
   "metadata": {},
   "outputs": [
    {
     "data": {
      "text/plain": [
       "array([[0.33768877],\n",
       "       [0.56068263],\n",
       "       [3.54641154],\n",
       "       [4.44326571],\n",
       "       [9.07869158],\n",
       "       [2.09042747]])"
      ]
     },
     "execution_count": 174,
     "metadata": {},
     "output_type": "execute_result"
    }
   ],
   "source": [
    "# 8\n",
    "y = np.exp(mat[::,0]).reshape(6,1)\n",
    "y"
   ]
  },
  {
   "cell_type": "code",
   "execution_count": 175,
   "metadata": {},
   "outputs": [
    {
     "data": {
      "text/plain": [
       "array([[-1.0856306 ,  0.99734545,  0.2829785 , -1.50629471,  0.33768877],\n",
       "       [-0.57860025,  1.65143654, -2.42667924, -0.42891263,  0.56068263],\n",
       "       [ 1.26593626, -0.8667404 , -0.67888615, -0.09470897,  3.54641154],\n",
       "       [ 1.49138963, -0.638902  , -0.44398196, -0.43435128,  4.44326571],\n",
       "       [ 2.20593008,  2.18678609,  1.0040539 ,  0.3861864 ,  9.07869158],\n",
       "       [ 0.73736858,  1.49073203, -0.93583387,  1.17582904,  2.09042747]])"
      ]
     },
     "execution_count": 175,
     "metadata": {},
     "output_type": "execute_result"
    }
   ],
   "source": [
    "mat = np.hstack((mat,y))\n",
    "mat"
   ]
  },
  {
   "cell_type": "code",
   "execution_count": 176,
   "metadata": {},
   "outputs": [
    {
     "data": {
      "text/plain": [
       "array([[ 0.9143694 , -1.00265455,  2.2829785 , -3.50629471,  2.33768877],\n",
       "       [ 1.42139975, -0.34856346, -0.42667924, -2.42891263,  2.56068263],\n",
       "       [ 3.26593626, -2.8667404 ,  1.32111385, -2.09470897,  5.54641154],\n",
       "       [ 3.49138963, -2.638902  ,  1.55601804, -2.43435128,  6.44326571],\n",
       "       [ 4.20593008,  0.18678609,  3.0040539 , -1.6138136 , 11.07869158],\n",
       "       [ 2.73736858, -0.50926797,  1.06416613, -0.82417096,  4.09042747]])"
      ]
     },
     "execution_count": 176,
     "metadata": {},
     "output_type": "execute_result"
    }
   ],
   "source": [
    "# 9 \n",
    "mat[::,::2] +=1\n",
    "mat[::,1::2] += -1\n",
    "mat += np.array([1,-1,1,-1,1])\n",
    "mat"
   ]
  },
  {
   "cell_type": "code",
   "execution_count": 177,
   "metadata": {},
   "outputs": [
    {
     "data": {
      "text/plain": [
       "array([[ 9.14369397e-02, -1.00265455e-01,  2.28297850e-01,\n",
       "        -3.50629471e-01,  2.33768877e-01],\n",
       "       [ 1.42139975e-01, -3.48563463e-02, -4.26679243e-02,\n",
       "        -2.42891263e-01,  2.56068263e-01],\n",
       "       [ 3.26593626e-01, -2.86674040e-01,  1.32111385e-01,\n",
       "        -2.09470897e-01,  5.54641154e-01],\n",
       "       [ 3.49138963e+01, -2.63890200e+01,  1.55601804e+01,\n",
       "        -2.43435128e+01,  6.44326571e+01],\n",
       "       [ 4.20593008e+01,  1.86786089e+00,  3.00405390e+01,\n",
       "        -1.61381360e+01,  1.10786916e+02],\n",
       "       [ 2.73736858e+01, -5.09267972e+00,  1.06416613e+01,\n",
       "        -8.24170955e+00,  4.09042747e+01]])"
      ]
     },
     "execution_count": 177,
     "metadata": {},
     "output_type": "execute_result"
    }
   ],
   "source": [
    "# 10\n",
    "mat[0:3,::] *= 0.1\n",
    "mat[3:,] *= 10\n",
    "mat"
   ]
  },
  {
   "cell_type": "code",
   "execution_count": 178,
   "metadata": {},
   "outputs": [
    {
     "data": {
      "text/plain": [
       "array([31.14379101, -0.0675609 , 13.10092086, -0.29676037, 52.66846589])"
      ]
     },
     "execution_count": 178,
     "metadata": {},
     "output_type": "execute_result"
    }
   ],
   "source": [
    "# 11\n",
    "np.percentile(mat, 70, axis=0)"
   ]
  },
  {
   "cell_type": "code",
   "execution_count": 180,
   "metadata": {
    "scrolled": true
   },
   "outputs": [
    {
     "data": {
      "text/plain": [
       "array([ 0.55464115,  0.32659363,  0.13211138, -0.2094709 , -0.28667404])"
      ]
     },
     "execution_count": 180,
     "metadata": {},
     "output_type": "execute_result"
    }
   ],
   "source": [
    "# 12\n",
    "np.sort(mat[2])[::-1]"
   ]
  },
  {
   "cell_type": "code",
   "execution_count": 182,
   "metadata": {},
   "outputs": [
    {
     "data": {
      "text/plain": [
       "array([0, 0, 0, 3, 4, 3])"
      ]
     },
     "execution_count": 182,
     "metadata": {},
     "output_type": "execute_result"
    }
   ],
   "source": [
    "# 13\n",
    "greater_3 = np.exp(mat) > 3\n",
    "np.sum(greater_3, axis =1)"
   ]
  },
  {
   "cell_type": "code",
   "execution_count": 188,
   "metadata": {},
   "outputs": [
    {
     "data": {
      "text/plain": [
       "(array([0, 0, 1, 1, 2, 2, 3, 3, 3, 4, 4, 4, 4, 5, 5, 5, 5], dtype=int64),\n",
       " array([1, 3, 1, 3, 1, 3, 0, 2, 4, 0, 1, 2, 4, 0, 2, 3, 4], dtype=int64))"
      ]
     },
     "execution_count": 188,
     "metadata": {},
     "output_type": "execute_result"
    }
   ],
   "source": [
    "# 14\n",
    "np.nonzero(mat > np.mean(mat, axis=0))"
   ]
  },
  {
   "cell_type": "code",
   "execution_count": 190,
   "metadata": {},
   "outputs": [
    {
     "data": {
      "text/plain": [
       "array([[46,  3, 29],\n",
       "       [35, 39, 18],\n",
       "       [20, 43, 23]])"
      ]
     },
     "execution_count": 190,
     "metadata": {},
     "output_type": "execute_result"
    }
   ],
   "source": [
    "np.random.seed(123)\n",
    "M = np.random.randint(1, 50, size=(3,3))\n",
    "M"
   ]
  },
  {
   "cell_type": "code",
   "execution_count": 195,
   "metadata": {},
   "outputs": [
    {
     "data": {
      "text/plain": [
       "array([[2966, 2249, 1716],\n",
       "       [2249, 3070, 2791],\n",
       "       [1716, 2791, 2778]])"
      ]
     },
     "execution_count": 195,
     "metadata": {},
     "output_type": "execute_result"
    }
   ],
   "source": [
    "#15\n",
    "M @ M.T"
   ]
  },
  {
   "cell_type": "code",
   "execution_count": 203,
   "metadata": {},
   "outputs": [
    {
     "data": {
      "text/plain": [
       "25347.999999999975"
      ]
     },
     "execution_count": 203,
     "metadata": {},
     "output_type": "execute_result"
    }
   ],
   "source": [
    "np.linalg.det(M)"
   ]
  },
  {
   "cell_type": "code",
   "execution_count": 173,
   "metadata": {},
   "outputs": [
    {
     "data": {
      "text/plain": [
       "array([[ 0.00485245,  0.04647309, -0.04248856],\n",
       "       [-0.01755563,  0.0188575 ,  0.00737731],\n",
       "       [ 0.02860186, -0.07566672,  0.06663248]])"
      ]
     },
     "execution_count": 173,
     "metadata": {},
     "output_type": "execute_result"
    }
   ],
   "source": [
    "np.linalg.inv(M)"
   ]
  }
 ],
 "metadata": {
  "kernelspec": {
   "display_name": "Python 3",
   "language": "python",
   "name": "python3"
  },
  "language_info": {
   "codemirror_mode": {
    "name": "ipython",
    "version": 3
   },
   "file_extension": ".py",
   "mimetype": "text/x-python",
   "name": "python",
   "nbconvert_exporter": "python",
   "pygments_lexer": "ipython3",
   "version": "3.7.1"
  }
 },
 "nbformat": 4,
 "nbformat_minor": 2
}
