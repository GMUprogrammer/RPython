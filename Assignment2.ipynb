{
 "cells": [
  {
   "cell_type": "code",
   "execution_count": 90,
   "metadata": {},
   "outputs": [],
   "source": [
    "# Define Variables for Q .1\n",
    "price = (180, 130, 110, 160, 140, 170)"
   ]
  },
  {
   "cell_type": "code",
   "execution_count": 91,
   "metadata": {},
   "outputs": [
    {
     "data": {
      "text/plain": [
       "(110, 130, 140, 160, 170, 180)"
      ]
     },
     "execution_count": 91,
     "metadata": {},
     "output_type": "execute_result"
    }
   ],
   "source": [
    "# Q .1-(1)\n",
    "price = list(price)\n",
    "price.sort()\n",
    "price = tuple(price)\n",
    "price"
   ]
  },
  {
   "cell_type": "code",
   "execution_count": 92,
   "metadata": {},
   "outputs": [
    {
     "data": {
      "text/plain": [
       "(100, 110, 130, 140, 160, 170, 180, 190)"
      ]
     },
     "execution_count": 92,
     "metadata": {},
     "output_type": "execute_result"
    }
   ],
   "source": [
    "# Q .1-(2)\n",
    "price = list(price)\n",
    "price.insert(0, 100)\n",
    "price.append(190)\n",
    "price = tuple(price)\n",
    "price"
   ]
  },
  {
   "cell_type": "code",
   "execution_count": 93,
   "metadata": {},
   "outputs": [
    {
     "data": {
      "text/plain": [
       "[100, 130, 160, 180]"
      ]
     },
     "execution_count": 93,
     "metadata": {},
     "output_type": "execute_result"
    }
   ],
   "source": [
    "# Q .1-(3)\n",
    "price_2 = list(price[::2])\n",
    "price_2"
   ]
  },
  {
   "cell_type": "code",
   "execution_count": 94,
   "metadata": {},
   "outputs": [
    {
     "name": "stdout",
     "output_type": "stream",
     "text": [
      "False\n"
     ]
    }
   ],
   "source": [
    "# Q .1-(4)\n",
    "if price_2.count(170) == 0:\n",
    "    print(False)\n",
    "else:\n",
    "    print(True)"
   ]
  },
  {
   "cell_type": "code",
   "execution_count": 95,
   "metadata": {},
   "outputs": [
    {
     "data": {
      "text/plain": [
       "(100, 110, 130, 140, 0, 0, 0, 170, 180, 190)"
      ]
     },
     "execution_count": 95,
     "metadata": {},
     "output_type": "execute_result"
    }
   ],
   "source": [
    "# Q .1-(5)\n",
    "price = price[0:4] + (0, 0, 0) + price[5:]\n",
    "price"
   ]
  },
  {
   "cell_type": "code",
   "execution_count": 97,
   "metadata": {},
   "outputs": [],
   "source": [
    "# Q. 2\n",
    "scores = [8.8, 8.9, 8.7, 9.2, 9.3, 9.7, 9,9, 9.5, 7.8, 9.4]\n",
    "scr1, src2 = scores[0:3], scores[3:]"
   ]
  },
  {
   "cell_type": "code",
   "execution_count": 98,
   "metadata": {},
   "outputs": [],
   "source": [
    "# Q. 3-(1)\n",
    "\"\"\"(1)\tdict_x = { {'a':10} : 5, 'abc': {'c':20} } raises an error because \n",
    "{'a':10} is a dictionary, which is mutable. The key should be an immutable type of data. "
   ]
  },
  {
   "cell_type": "code",
   "execution_count": null,
   "metadata": {},
   "outputs": [],
   "source": [
    "# Q. 3-(2)\n",
    "\"\"\"(2)\tdict_y = { (1,) : 10, (2,): 20, (3, ): 30, (4, ): 40 } ; dict_y[ -2 : ] causes an error\n",
    "because dictionaries cannot be sliced\"\"\""
   ]
  },
  {
   "cell_type": "code",
   "execution_count": 10,
   "metadata": {},
   "outputs": [],
   "source": [
    "# Define Variables for Q. 4\n",
    "icecream = {'cherry': [12, 100], 'cookies': [18, 200], 'greentea': [15, 140], 'mango': [10, 200]}"
   ]
  },
  {
   "cell_type": "code",
   "execution_count": 12,
   "metadata": {},
   "outputs": [],
   "source": [
    "# 4-1\n",
    "icecream['cookies'][0] = 13"
   ]
  },
  {
   "cell_type": "code",
   "execution_count": 14,
   "metadata": {},
   "outputs": [
    {
     "name": "stdout",
     "output_type": "stream",
     "text": [
      "price= 13 & stock= 200\n"
     ]
    }
   ],
   "source": [
    "# 4-2\n",
    "print('price=', icecream['cookies'][0], '& stock=', icecream['cookies'][1])"
   ]
  },
  {
   "cell_type": "code",
   "execution_count": 17,
   "metadata": {},
   "outputs": [
    {
     "data": {
      "text/plain": [
       "{'cherry': [12, 100],\n",
       " 'cookies': [13, 200],\n",
       " 'greentea': [15, 140],\n",
       " 'mango': [10, 200],\n",
       " 'Strawberry': [12, 170],\n",
       " 'pistachio': [15, 100]}"
      ]
     },
     "execution_count": 17,
     "metadata": {},
     "output_type": "execute_result"
    }
   ],
   "source": [
    "# 4-3\n",
    "icecream['Strawberry'] = [12, 170]\n",
    "icecream['pistachio'] = [15, 100]\n",
    "icecream"
   ]
  },
  {
   "cell_type": "code",
   "execution_count": 18,
   "metadata": {},
   "outputs": [
    {
     "data": {
      "text/plain": [
       "'There is no key such as coconut'"
      ]
     },
     "execution_count": 18,
     "metadata": {},
     "output_type": "execute_result"
    }
   ],
   "source": [
    "# 4-4\n",
    "'''There is no key such as coconut'''"
   ]
  },
  {
   "cell_type": "code",
   "execution_count": 90,
   "metadata": {},
   "outputs": [],
   "source": [
    "# 4-5\n",
    "icecream2 = icecream.copy()"
   ]
  },
  {
   "cell_type": "code",
   "execution_count": 102,
   "metadata": {},
   "outputs": [],
   "source": [
    "# Define variables for 5\n",
    "d1 = {'key1':1, 'key2': 3, 'key3': 2, 'key10': 7}\n",
    "d2 = {'key3':1, 'key2': 2, 'key7': 2, 'key5': 4, 'key1': 7, 'key9': 8}"
   ]
  },
  {
   "cell_type": "code",
   "execution_count": 103,
   "metadata": {},
   "outputs": [
    {
     "name": "stdout",
     "output_type": "stream",
     "text": [
      "[8, 7, 4]\n"
     ]
    }
   ],
   "source": [
    "# 5-1\n",
    "d2_list = list(d2.values())\n",
    "d2_list.sort()\n",
    "d2_list.reverse()\n",
    "print(d2_list[:3:])"
   ]
  },
  {
   "cell_type": "code",
   "execution_count": 104,
   "metadata": {},
   "outputs": [
    {
     "data": {
      "text/plain": [
       "{1, 2, 4, 7, 8}"
      ]
     },
     "execution_count": 104,
     "metadata": {},
     "output_type": "execute_result"
    }
   ],
   "source": [
    "# 5-2\n",
    "d2_set = set(d2.values())\n",
    "d2_set"
   ]
  },
  {
   "cell_type": "code",
   "execution_count": 105,
   "metadata": {},
   "outputs": [
    {
     "name": "stdout",
     "output_type": "stream",
     "text": [
      "False\n"
     ]
    }
   ],
   "source": [
    "# 5-3\n",
    "new_d2 = d2.copy()\n",
    "new_d2.update(d1)\n",
    "if d2 == new_d2:\n",
    "    print(True)\n",
    "else:\n",
    "    print(False)"
   ]
  },
  {
   "cell_type": "code",
   "execution_count": 116,
   "metadata": {},
   "outputs": [
    {
     "name": "stdout",
     "output_type": "stream",
     "text": [
      "False\n"
     ]
    }
   ],
   "source": [
    "# 5-4\n",
    "if 4 in d1:\n",
    "    print(True)\n",
    "else:\n",
    "    print(False)"
   ]
  },
  {
   "cell_type": "code",
   "execution_count": 115,
   "metadata": {},
   "outputs": [
    {
     "data": {
      "text/plain": [
       "{1, 2, 7}"
      ]
     },
     "execution_count": 115,
     "metadata": {},
     "output_type": "execute_result"
    }
   ],
   "source": [
    "# 5-5\n",
    "set(d1.values()) & set(d2.values())"
   ]
  },
  {
   "cell_type": "code",
   "execution_count": null,
   "metadata": {},
   "outputs": [],
   "source": [
    "#5-6\n",
    "'''s1=set(d1); s1[0] rises an error because set has no index'''\n"
   ]
  }
 ],
 "metadata": {
  "kernelspec": {
   "display_name": "Python 3",
   "language": "python",
   "name": "python3"
  },
  "language_info": {
   "codemirror_mode": {
    "name": "ipython",
    "version": 3
   },
   "file_extension": ".py",
   "mimetype": "text/x-python",
   "name": "python",
   "nbconvert_exporter": "python",
   "pygments_lexer": "ipython3",
   "version": "3.7.1"
  }
 },
 "nbformat": 4,
 "nbformat_minor": 2
}
