{
 "cells": [
  {
   "cell_type": "markdown",
   "metadata": {},
   "source": [
    "### Assignment 1"
   ]
  },
  {
   "cell_type": "code",
   "execution_count": 2,
   "metadata": {},
   "outputs": [],
   "source": [
    "import math"
   ]
  },
  {
   "cell_type": "code",
   "execution_count": 3,
   "metadata": {},
   "outputs": [
    {
     "data": {
      "text/plain": [
       "(10.0, -12.0)"
      ]
     },
     "execution_count": 3,
     "metadata": {},
     "output_type": "execute_result"
    }
   ],
   "source": [
    "#1-1\n",
    "a,b,c = 2, -1, -15\n",
    "\n",
    "(b+math.sqrt(b**2-4*a*c))/2*a, (b-math.sqrt(b**2-4*a*c))/2*a"
   ]
  },
  {
   "cell_type": "code",
   "execution_count": 4,
   "metadata": {},
   "outputs": [
    {
     "data": {
      "text/plain": [
       "0.0513934432679231"
      ]
     },
     "execution_count": 4,
     "metadata": {},
     "output_type": "execute_result"
    }
   ],
   "source": [
    "#1-2\n",
    "u, var, x = 2, 3, 1\n",
    "\n",
    "(1/math.sqrt(2*math.pi*var))*math.exp(-(((x-u)**2)/2*var))"
   ]
  },
  {
   "cell_type": "code",
   "execution_count": 5,
   "metadata": {},
   "outputs": [],
   "source": [
    "#2\n",
    "grade = ['A', 'B', 'C', 'D', 'F']"
   ]
  },
  {
   "cell_type": "code",
   "execution_count": 6,
   "metadata": {},
   "outputs": [
    {
     "data": {
      "text/plain": [
       "'ABCDF'"
      ]
     },
     "execution_count": 6,
     "metadata": {},
     "output_type": "execute_result"
    }
   ],
   "source": [
    "#2-1\n",
    "grade_str = grade[0]+grade[1]+grade[2]+grade[3]+grade[4]\n",
    "grade_str"
   ]
  },
  {
   "cell_type": "code",
   "execution_count": 7,
   "metadata": {},
   "outputs": [
    {
     "data": {
      "text/plain": [
       "'ABCDFFF'"
      ]
     },
     "execution_count": 7,
     "metadata": {},
     "output_type": "execute_result"
    }
   ],
   "source": [
    "#2-2\n",
    "grade_str += grade_str[4]*2\n",
    "grade_str"
   ]
  },
  {
   "cell_type": "code",
   "execution_count": 8,
   "metadata": {},
   "outputs": [
    {
     "data": {
      "text/plain": [
       "'ABCDFFFDCBA'"
      ]
     },
     "execution_count": 8,
     "metadata": {},
     "output_type": "execute_result"
    }
   ],
   "source": [
    "#2-3\n",
    "grade_str += grade_str[3::-1]\n",
    "grade_str"
   ]
  },
  {
   "cell_type": "code",
   "execution_count": 9,
   "metadata": {},
   "outputs": [
    {
     "data": {
      "text/plain": [
       "2"
      ]
     },
     "execution_count": 9,
     "metadata": {},
     "output_type": "execute_result"
    }
   ],
   "source": [
    "#2-4\n",
    "grade_str.count('A')"
   ]
  },
  {
   "cell_type": "code",
   "execution_count": 10,
   "metadata": {},
   "outputs": [
    {
     "data": {
      "text/plain": [
       "('FFF', 'FFF', 'FFF', 'FFF')"
      ]
     },
     "execution_count": 10,
     "metadata": {},
     "output_type": "execute_result"
    }
   ],
   "source": [
    "#2-5\n",
    "grade_str[4:7], grade_str[-7:-4:1], grade_str[-5:-8:-1], grade_str[6:3:-1]"
   ]
  },
  {
   "cell_type": "code",
   "execution_count": 11,
   "metadata": {},
   "outputs": [
    {
     "data": {
      "text/plain": [
       "'ABCDAAADCBA'"
      ]
     },
     "execution_count": 11,
     "metadata": {},
     "output_type": "execute_result"
    }
   ],
   "source": [
    "#2-6\n",
    "grade_str.replace('FFF', 'AAA')"
   ]
  },
  {
   "cell_type": "code",
   "execution_count": 12,
   "metadata": {},
   "outputs": [
    {
     "data": {
      "text/plain": [
       "True"
      ]
     },
     "execution_count": 12,
     "metadata": {},
     "output_type": "execute_result"
    }
   ],
   "source": [
    "#2-7\n",
    "'F' in grade_str"
   ]
  },
  {
   "cell_type": "code",
   "execution_count": 13,
   "metadata": {},
   "outputs": [
    {
     "data": {
      "text/plain": [
       "'abcdfffdcba'"
      ]
     },
     "execution_count": 13,
     "metadata": {},
     "output_type": "execute_result"
    }
   ],
   "source": [
    "#2-8\n",
    "grade_str.lower()"
   ]
  },
  {
   "cell_type": "code",
   "execution_count": 14,
   "metadata": {},
   "outputs": [],
   "source": [
    "days = ['Mon', 'Tues', 'Wed', 'Thur', 'Fri', ['Sat', 'Sun']]"
   ]
  },
  {
   "cell_type": "code",
   "execution_count": 15,
   "metadata": {},
   "outputs": [],
   "source": [
    "#3-1\n",
    "days2 = days.copy()"
   ]
  },
  {
   "cell_type": "code",
   "execution_count": 16,
   "metadata": {},
   "outputs": [
    {
     "data": {
      "text/plain": [
       "([['Sat', 'Sun']],\n",
       " ['Mon', 'Wed', 'Fri'],\n",
       " [['Sat', 'Sun'], 'Thur', 'Tues'],\n",
       " ['Fri', 'Tues'],\n",
       " 'Sat')"
      ]
     },
     "execution_count": 16,
     "metadata": {},
     "output_type": "execute_result"
    }
   ],
   "source": [
    "#3-2\n",
    "days2[5:], days2[::2], days2[::-2], days2[-2::-3], days[-1][0]"
   ]
  },
  {
   "cell_type": "code",
   "execution_count": 17,
   "metadata": {},
   "outputs": [
    {
     "data": {
      "text/plain": [
       "[['Mon', 'Tues', 'Wed', 'Thur', 'Fri'], 'Sat', 'Sun']"
      ]
     },
     "execution_count": 17,
     "metadata": {},
     "output_type": "execute_result"
    }
   ],
   "source": [
    "#3-3\n",
    "days2 = [days2[0:5]] + days2[-1]\n",
    "days2"
   ]
  },
  {
   "cell_type": "code",
   "execution_count": 18,
   "metadata": {},
   "outputs": [
    {
     "data": {
      "text/plain": [
       "[['Mon', 'Tues', 'Thur'], 'Sat', 'Sun']"
      ]
     },
     "execution_count": 18,
     "metadata": {},
     "output_type": "execute_result"
    }
   ],
   "source": [
    "#3-4\n",
    "del days2[0][-1:-4:-2]\n",
    "days2"
   ]
  },
  {
   "cell_type": "code",
   "execution_count": 19,
   "metadata": {},
   "outputs": [
    {
     "data": {
      "text/plain": [
       "[['Mon', 'Tues', 'W', 'Thur'], 'Sat', 'Sun']"
      ]
     },
     "execution_count": 19,
     "metadata": {},
     "output_type": "execute_result"
    }
   ],
   "source": [
    "#3-5\n",
    "days2[0].insert(2, 'W')\n",
    "days2"
   ]
  },
  {
   "cell_type": "code",
   "execution_count": 20,
   "metadata": {},
   "outputs": [
    {
     "data": {
      "text/plain": [
       "[1, 5, 2, 7, 3, 6, 4, 7]"
      ]
     },
     "execution_count": 20,
     "metadata": {},
     "output_type": "execute_result"
    }
   ],
   "source": [
    "#4-1\n",
    "Nums = [1,5,2,7,3,6,4]\n",
    "Nums.append(max(Nums))\n",
    "Nums"
   ]
  },
  {
   "cell_type": "code",
   "execution_count": 21,
   "metadata": {},
   "outputs": [
    {
     "data": {
      "text/plain": [
       "[7, 7, 6, 5, 4, 3, 2, 1]"
      ]
     },
     "execution_count": 21,
     "metadata": {},
     "output_type": "execute_result"
    }
   ],
   "source": [
    "#4-2\n",
    "Nums.sort()\n",
    "Nums.reverse()\n",
    "Nums"
   ]
  },
  {
   "cell_type": "code",
   "execution_count": 22,
   "metadata": {},
   "outputs": [
    {
     "data": {
      "text/plain": [
       "['a', 7, 'a', 5, 'a', 3, 'a', 1]"
      ]
     },
     "execution_count": 22,
     "metadata": {},
     "output_type": "execute_result"
    }
   ],
   "source": [
    "#4-3\n",
    "Nums[::2] = ['a']*4\n",
    "Nums"
   ]
  },
  {
   "cell_type": "markdown",
   "metadata": {},
   "source": [
    "### Assignment 2"
   ]
  },
  {
   "cell_type": "code",
   "execution_count": 23,
   "metadata": {},
   "outputs": [
    {
     "data": {
      "text/plain": [
       "(110, 130, 140, 160, 170, 180)"
      ]
     },
     "execution_count": 23,
     "metadata": {},
     "output_type": "execute_result"
    }
   ],
   "source": [
    "#1-1\n",
    "price = (180, 130, 110, 160, 140, 170)\n",
    "price = list(price)\n",
    "price.sort()\n",
    "price = tuple(price)\n",
    "price"
   ]
  },
  {
   "cell_type": "code",
   "execution_count": 24,
   "metadata": {},
   "outputs": [
    {
     "data": {
      "text/plain": [
       "(100, 110, 130, 140, 160, 170, 180, 190)"
      ]
     },
     "execution_count": 24,
     "metadata": {},
     "output_type": "execute_result"
    }
   ],
   "source": [
    "#1-2\n",
    "price = (100,) + price + (190,)\n",
    "price"
   ]
  },
  {
   "cell_type": "code",
   "execution_count": 25,
   "metadata": {},
   "outputs": [
    {
     "data": {
      "text/plain": [
       "[100, 130, 160, 180]"
      ]
     },
     "execution_count": 25,
     "metadata": {},
     "output_type": "execute_result"
    }
   ],
   "source": [
    "#1-3\n",
    "price_2 = list(price[::2])\n",
    "price_2"
   ]
  },
  {
   "cell_type": "code",
   "execution_count": 26,
   "metadata": {},
   "outputs": [
    {
     "data": {
      "text/plain": [
       "False"
      ]
     },
     "execution_count": 26,
     "metadata": {},
     "output_type": "execute_result"
    }
   ],
   "source": [
    "#1-4\n",
    "170 in price_2"
   ]
  },
  {
   "cell_type": "code",
   "execution_count": 27,
   "metadata": {},
   "outputs": [
    {
     "data": {
      "text/plain": [
       "(100, 110, 130, 140, 0, 0, 0, 170, 180, 190)"
      ]
     },
     "execution_count": 27,
     "metadata": {},
     "output_type": "execute_result"
    }
   ],
   "source": [
    "#1-5\n",
    "price = list(price)\n",
    "price[4:5] = [0,0,0]\n",
    "tuple(price)"
   ]
  },
  {
   "cell_type": "code",
   "execution_count": 28,
   "metadata": {},
   "outputs": [
    {
     "data": {
      "text/plain": [
       "([1, 2, 3, 4, 5, 6, 7], [8, 9, 10])"
      ]
     },
     "execution_count": 28,
     "metadata": {},
     "output_type": "execute_result"
    }
   ],
   "source": [
    "#2\n",
    "scores = [1,2,3,4,5,6,7,8,9,10]\n",
    "scr1, scr2 = scores[0:7], scores[7:]\n",
    "scr1, scr2"
   ]
  },
  {
   "cell_type": "code",
   "execution_count": 29,
   "metadata": {},
   "outputs": [],
   "source": [
    "#3\n",
    "#1) mutable objects cannot be a key of a dictionary\n",
    "#2) dictionary cannot be sliced!"
   ]
  },
  {
   "cell_type": "code",
   "execution_count": 30,
   "metadata": {},
   "outputs": [],
   "source": [
    "#4\n",
    "icecream={'cherry': [12,100], 'cookies': [18,200], 'greentea': [15,140], 'mango': [10,200]}"
   ]
  },
  {
   "cell_type": "code",
   "execution_count": 31,
   "metadata": {},
   "outputs": [
    {
     "data": {
      "text/plain": [
       "{'cherry': [12, 100],\n",
       " 'cookies': [13, 200],\n",
       " 'greentea': [15, 140],\n",
       " 'mango': [10, 200]}"
      ]
     },
     "execution_count": 31,
     "metadata": {},
     "output_type": "execute_result"
    }
   ],
   "source": [
    "#4-1\n",
    "icecream['cookies'][0] = 13\n",
    "icecream"
   ]
  },
  {
   "cell_type": "code",
   "execution_count": 32,
   "metadata": {},
   "outputs": [
    {
     "name": "stdout",
     "output_type": "stream",
     "text": [
      "price= 12 & stock= 100\n"
     ]
    }
   ],
   "source": [
    "#4-2\n",
    "print(\"price= \" + str(icecream['cherry'][0]), \"& stock= \" + str(icecream['cherry'][1]))"
   ]
  },
  {
   "cell_type": "code",
   "execution_count": 33,
   "metadata": {},
   "outputs": [
    {
     "data": {
      "text/plain": [
       "{'cherry': [12, 100],\n",
       " 'cookies': [13, 200],\n",
       " 'greentea': [15, 140],\n",
       " 'mango': [10, 200],\n",
       " 'Strawberry': [12, 170],\n",
       " 'pistachio': [15, 100]}"
      ]
     },
     "execution_count": 33,
     "metadata": {},
     "output_type": "execute_result"
    }
   ],
   "source": [
    "#4-3\n",
    "icecream.update({'Strawberry':[12,170], 'pistachio': [15,100]})\n",
    "icecream"
   ]
  },
  {
   "cell_type": "code",
   "execution_count": 34,
   "metadata": {},
   "outputs": [],
   "source": [
    "#4-4 there is no key such as 'coconut'"
   ]
  },
  {
   "cell_type": "code",
   "execution_count": 35,
   "metadata": {},
   "outputs": [
    {
     "data": {
      "text/plain": [
       "{'cherry': [12, 100],\n",
       " 'cookies': [13, 200],\n",
       " 'greentea': [15, 140],\n",
       " 'mango': [10, 200],\n",
       " 'Strawberry': [12, 170],\n",
       " 'pistachio': [15, 100]}"
      ]
     },
     "execution_count": 35,
     "metadata": {},
     "output_type": "execute_result"
    }
   ],
   "source": [
    "icecream2 = icecream.copy()\n",
    "icecream2"
   ]
  },
  {
   "cell_type": "code",
   "execution_count": 36,
   "metadata": {},
   "outputs": [],
   "source": [
    "#5\n",
    "d1={'key1': 1, 'key2': 3, 'key3': 2, 'key10': 7 }\n",
    "d2={'key3': 1, 'key2': 2, 'key7': 2, 'key5': 4, 'key1': 7, 'key9': 8}"
   ]
  },
  {
   "cell_type": "code",
   "execution_count": 37,
   "metadata": {},
   "outputs": [
    {
     "data": {
      "text/plain": [
       "[4, 7, 8]"
      ]
     },
     "execution_count": 37,
     "metadata": {},
     "output_type": "execute_result"
    }
   ],
   "source": [
    "#5-1\n",
    "d2v = list(d2.values())\n",
    "d2v.sort()\n",
    "d2v[-3::]"
   ]
  },
  {
   "cell_type": "code",
   "execution_count": 38,
   "metadata": {},
   "outputs": [
    {
     "data": {
      "text/plain": [
       "{1, 2, 4, 7, 8}"
      ]
     },
     "execution_count": 38,
     "metadata": {},
     "output_type": "execute_result"
    }
   ],
   "source": [
    "#5-2\n",
    "d2v = set(d2.values())\n",
    "d2v"
   ]
  },
  {
   "cell_type": "code",
   "execution_count": 39,
   "metadata": {},
   "outputs": [
    {
     "data": {
      "text/plain": [
       "False"
      ]
     },
     "execution_count": 39,
     "metadata": {},
     "output_type": "execute_result"
    }
   ],
   "source": [
    "#5-3\n",
    "d1.keys() <= d2.keys()"
   ]
  },
  {
   "cell_type": "code",
   "execution_count": 40,
   "metadata": {},
   "outputs": [
    {
     "data": {
      "text/plain": [
       "False"
      ]
     },
     "execution_count": 40,
     "metadata": {},
     "output_type": "execute_result"
    }
   ],
   "source": [
    "#5-4\n",
    "4 in d1.values()"
   ]
  },
  {
   "cell_type": "code",
   "execution_count": 41,
   "metadata": {},
   "outputs": [
    {
     "data": {
      "text/plain": [
       "{1, 2, 7}"
      ]
     },
     "execution_count": 41,
     "metadata": {},
     "output_type": "execute_result"
    }
   ],
   "source": [
    "#5-5\n",
    "set(d1.values()) & set(d2.values())"
   ]
  },
  {
   "cell_type": "code",
   "execution_count": 42,
   "metadata": {},
   "outputs": [],
   "source": [
    "#5-6 sets cannot be indexed"
   ]
  },
  {
   "cell_type": "markdown",
   "metadata": {},
   "source": [
    "### Assignment 3"
   ]
  },
  {
   "cell_type": "code",
   "execution_count": 43,
   "metadata": {},
   "outputs": [
    {
     "data": {
      "text/plain": [
       "[1045,\n",
       " 1100,\n",
       " 1155,\n",
       " 1210,\n",
       " 1265,\n",
       " 1320,\n",
       " 1375,\n",
       " 1430,\n",
       " 1485,\n",
       " 1540,\n",
       " 1595,\n",
       " 1650,\n",
       " 1705,\n",
       " 1760,\n",
       " 1815,\n",
       " 1870,\n",
       " 1925,\n",
       " 1980]"
      ]
     },
     "execution_count": 43,
     "metadata": {},
     "output_type": "execute_result"
    }
   ],
   "source": [
    "#1\n",
    "[x for x in range(1000,2001) if x % 11 == 0 and x % 5 == 0]"
   ]
  },
  {
   "cell_type": "code",
   "execution_count": 44,
   "metadata": {},
   "outputs": [
    {
     "name": "stdout",
     "output_type": "stream",
     "text": [
      "Number of even numbers : 4\n",
      "Number of odd numbers : 5\n"
     ]
    }
   ],
   "source": [
    "#2\n",
    "numbers = (1, 2, 3, 4, 5, 6, 7, 8, 9) \n",
    "\n",
    "odd = 0 \n",
    "even = 0\n",
    "\n",
    "for x in numbers:\n",
    "    if x % 2 == 0:\n",
    "        even += 1\n",
    "    else:\n",
    "        odd += 1\n",
    "        \n",
    "print(\"Number of even numbers :\", even)\n",
    "print(\"Number of odd numbers :\", odd)"
   ]
  },
  {
   "cell_type": "code",
   "execution_count": 45,
   "metadata": {},
   "outputs": [
    {
     "name": "stdout",
     "output_type": "stream",
     "text": [
      "1\n",
      "1\n",
      "2\n",
      "3\n",
      "5\n",
      "8\n",
      "13\n",
      "21\n",
      "34\n",
      "55\n",
      "89\n"
     ]
    }
   ],
   "source": [
    "#3\n",
    "x = 0\n",
    "y = 1\n",
    "while y < 101:\n",
    "    print(y)\n",
    "    x, y = y, x+y"
   ]
  },
  {
   "cell_type": "code",
   "execution_count": 46,
   "metadata": {},
   "outputs": [
    {
     "name": "stdout",
     "output_type": "stream",
     "text": [
      "Input number of rows: 4\n",
      "Input number of columns: 3\n"
     ]
    },
    {
     "data": {
      "text/plain": [
       "[[0, 0, 0], [0, 1, 2], [0, 2, 4], [0, 3, 6]]"
      ]
     },
     "execution_count": 46,
     "metadata": {},
     "output_type": "execute_result"
    }
   ],
   "source": [
    "#4\n",
    "nrow = int(input(\"Input number of rows: \"))\n",
    "ncol = int(input(\"Input number of columns: \"))\n",
    "\n",
    "output= [[0 for x in range(ncol)] for y in range(nrow)]\n",
    "\n",
    "for row in range(nrow):\n",
    "    for col in range(ncol):\n",
    "        output[row][col] = row*col\n",
    "        \n",
    "output"
   ]
  },
  {
   "cell_type": "code",
   "execution_count": 47,
   "metadata": {},
   "outputs": [
    {
     "name": "stdout",
     "output_type": "stream",
     "text": [
      "Input a number: 4\n",
      "4 x 1 =  4\n",
      "4 x 2 =  8\n",
      "4 x 3 =  12\n",
      "4 x 4 =  16\n",
      "4 x 5 =  20\n",
      "4 x 6 =  24\n",
      "4 x 7 =  28\n",
      "4 x 8 =  32\n",
      "4 x 9 =  36\n"
     ]
    }
   ],
   "source": [
    "#5\n",
    "number = int(input(\"Input a number: \"))\n",
    "for x in range(1,10):\n",
    "    print(number, \"x\", x, \"= \", x*number)"
   ]
  },
  {
   "cell_type": "code",
   "execution_count": 48,
   "metadata": {},
   "outputs": [
    {
     "data": {
      "text/plain": [
       "[30,\n",
       " 15.0,\n",
       " 46.0,\n",
       " 23.0,\n",
       " 70.0,\n",
       " 35.0,\n",
       " 106.0,\n",
       " 53.0,\n",
       " 160.0,\n",
       " 80.0,\n",
       " 40.0,\n",
       " 20.0,\n",
       " 10.0,\n",
       " 5.0,\n",
       " 16.0,\n",
       " 8.0,\n",
       " 4.0,\n",
       " 2.0,\n",
       " 1.0]"
      ]
     },
     "execution_count": 48,
     "metadata": {},
     "output_type": "execute_result"
    }
   ],
   "source": [
    "#6\n",
    "collatz = [30]\n",
    "x = 30\n",
    "\n",
    "while x != 1:\n",
    "    if x%2 == 0:\n",
    "        x = x/2\n",
    "    else:\n",
    "        x= 3*x + 1\n",
    "    collatz.append(x)\n",
    "\n",
    "collatz"
   ]
  },
  {
   "cell_type": "code",
   "execution_count": 49,
   "metadata": {},
   "outputs": [],
   "source": [
    "#7-1\n",
    "x, y = [1,2,3,4], [5,6,7,8]\n",
    "\n",
    "z = [[xf, yf] for xf in x for yf in y]"
   ]
  },
  {
   "cell_type": "code",
   "execution_count": 50,
   "metadata": {},
   "outputs": [
    {
     "data": {
      "text/plain": [
       "[[1, 8],\n",
       " [2, 7],\n",
       " [2, 8],\n",
       " [3, 6],\n",
       " [3, 7],\n",
       " [3, 8],\n",
       " [4, 5],\n",
       " [4, 6],\n",
       " [4, 7],\n",
       " [4, 8]]"
      ]
     },
     "execution_count": 50,
     "metadata": {},
     "output_type": "execute_result"
    }
   ],
   "source": [
    "#7-2\n",
    "z = [[xf, yf] for xf in x for yf in y if xf+yf > 8]\n",
    "z"
   ]
  },
  {
   "cell_type": "code",
   "execution_count": 51,
   "metadata": {},
   "outputs": [
    {
     "name": "stdout",
     "output_type": "stream",
     "text": [
      "When you enter: 4\n",
      "Letters 0\n",
      "Digits 1\n"
     ]
    }
   ],
   "source": [
    "#8\n",
    "word = input(\"When you enter: \")\n",
    "\n",
    "digits = 0\n",
    "letters = 0 \n",
    "\n",
    "for x in word:\n",
    "    if x.isnumeric():\n",
    "        digits += 1\n",
    "    elif x.isalpha():\n",
    "        letters += 1\n",
    "    else:\n",
    "        pass\n",
    "\n",
    "print(\"Letters\", letters)\n",
    "print(\"Digits\", digits)\n",
    "\n"
   ]
  },
  {
   "cell_type": "markdown",
   "metadata": {},
   "source": [
    "### Assignment 4"
   ]
  },
  {
   "cell_type": "code",
   "execution_count": 52,
   "metadata": {},
   "outputs": [],
   "source": [
    "#1\n",
    "def count_odd(nlist):\n",
    "    odd = 0\n",
    "    for x in nlist:\n",
    "        if x%2 == 1:\n",
    "            odd += 1\n",
    "    return odd"
   ]
  },
  {
   "cell_type": "code",
   "execution_count": 53,
   "metadata": {},
   "outputs": [
    {
     "data": {
      "text/plain": [
       "1.414213562373095"
      ]
     },
     "execution_count": 53,
     "metadata": {},
     "output_type": "execute_result"
    }
   ],
   "source": [
    "#2\n",
    "def mySqrt(n):\n",
    "    oldguess = 0\n",
    "    newguess = n/2\n",
    "    \n",
    "    while abs(newguess-oldguess) > 1.0e-100:\n",
    "        oldguess = newguess\n",
    "        newguess = (1/2)*(oldguess+(n/oldguess))\n",
    "    \n",
    "    return newguess\n",
    "\n",
    "mySqrt(2)"
   ]
  },
  {
   "cell_type": "code",
   "execution_count": 54,
   "metadata": {},
   "outputs": [],
   "source": [
    "#3-1\n",
    "def grading(s=None):\n",
    "    if s==None:\n",
    "        print(\"Input your score!!\")\n",
    "    elif s<=100 and s>90:\n",
    "        print(\"Grade is A!\")\n",
    "    elif s<=90 and s>80:\n",
    "        print(\"Grade is B!\")\n",
    "    elif s<=80 and s>70:\n",
    "        print(\"Grade is C!\")\n",
    "    elif s<=70 and s>60:\n",
    "        print(\"Grade is D!\")\n",
    "    elif s<=60 and s>=0:\n",
    "        print(\"Grade is F!\")\n",
    "    else:\n",
    "        print(\"Score must be a number between 0 and 100!\")"
   ]
  },
  {
   "cell_type": "code",
   "execution_count": 55,
   "metadata": {},
   "outputs": [],
   "source": [
    "#3-2\n",
    "def grading(s=None, maxscore=100):\n",
    "    \n",
    "    if s==None:\n",
    "        print(\"Input your score!!\")\n",
    "        return\n",
    "    s = s * (100/maxscore)\n",
    "    if s<=100 and s>90:\n",
    "        print(\"Grade is A!\")\n",
    "    elif s<=90 and s>80:\n",
    "        print(\"Grade is B!\")\n",
    "    elif s<=80 and s>70:\n",
    "        print(\"Grade is C!\")\n",
    "    elif s<=70 and s>60:\n",
    "        print(\"Grade is D!\")\n",
    "    elif s<=60 and s>=0:\n",
    "        print(\"Grade is F!\")\n",
    "    else:\n",
    "        print(\"Score must be a number between\", 0, \"and\", str(maxscore) + \"!!!\")"
   ]
  },
  {
   "cell_type": "code",
   "execution_count": 56,
   "metadata": {},
   "outputs": [
    {
     "name": "stdout",
     "output_type": "stream",
     "text": [
      "Grade is C!\n",
      "Grade is B!\n",
      "Grade is F!\n",
      "Grade is A!\n",
      "Input your score!!\n",
      "Score must be a number between 0 and 0.5!!!\n"
     ]
    }
   ],
   "source": [
    "grading(s=75)\n",
    "grading(maxscore=1,s=0.85)\n",
    "grading(5, maxscore=10)\n",
    "grading(0.95, 1)\n",
    "grading(maxscore=1)\n",
    "grading( -0.3, 0.5)"
   ]
  },
  {
   "cell_type": "code",
   "execution_count": 57,
   "metadata": {},
   "outputs": [],
   "source": [
    "#3-3\n",
    "#>>> two argument for one parameter\n",
    "#>>> a keyword argument cannot come before a positional argument"
   ]
  },
  {
   "cell_type": "code",
   "execution_count": 58,
   "metadata": {},
   "outputs": [],
   "source": [
    "#4 (3) does not work. Since the init files are all empty, we can only utilize the files that are directly under the modules we imported."
   ]
  },
  {
   "cell_type": "markdown",
   "metadata": {},
   "source": [
    "### Assignment 5"
   ]
  },
  {
   "cell_type": "code",
   "execution_count": 59,
   "metadata": {},
   "outputs": [],
   "source": [
    "import numpy as np"
   ]
  },
  {
   "cell_type": "code",
   "execution_count": 60,
   "metadata": {},
   "outputs": [
    {
     "data": {
      "text/plain": [
       "array([[25, 10, 19, 19, 20],\n",
       "       [28, 25, 25, 20, 22]])"
      ]
     },
     "execution_count": 60,
     "metadata": {},
     "output_type": "execute_result"
    }
   ],
   "source": [
    "#1-1\n",
    "np.random.randint(10,31,(2,5))"
   ]
  },
  {
   "cell_type": "code",
   "execution_count": 61,
   "metadata": {},
   "outputs": [
    {
     "data": {
      "text/plain": [
       "array([[[-0.2595812 ],\n",
       "        [ 0.0781208 ],\n",
       "        [-1.48736427]],\n",
       "\n",
       "       [[ 1.030414  ],\n",
       "        [ 0.18092982],\n",
       "        [ 0.17229911]],\n",
       "\n",
       "       [[-1.50700658],\n",
       "        [-0.11235861],\n",
       "        [ 0.4911858 ]]])"
      ]
     },
     "execution_count": 61,
     "metadata": {},
     "output_type": "execute_result"
    }
   ],
   "source": [
    "#1-2\n",
    "np.random.randn(3,3,1)"
   ]
  },
  {
   "cell_type": "code",
   "execution_count": 62,
   "metadata": {},
   "outputs": [
    {
     "data": {
      "text/plain": [
       "array([0.60176889, 0.12502428, 0.8645027 , 0.74052415, 0.49358475,\n",
       "       0.37053797])"
      ]
     },
     "execution_count": 62,
     "metadata": {},
     "output_type": "execute_result"
    }
   ],
   "source": [
    "#1-3\n",
    "np.random.rand(6)"
   ]
  },
  {
   "cell_type": "code",
   "execution_count": 63,
   "metadata": {},
   "outputs": [
    {
     "data": {
      "text/plain": [
       "array([[0, 0, 0, 0, 0, 0, 0, 0],\n",
       "       [1, 0, 1, 0, 1, 0, 1, 0],\n",
       "       [0, 0, 0, 0, 0, 0, 0, 0],\n",
       "       [1, 0, 1, 0, 1, 0, 1, 0],\n",
       "       [0, 0, 0, 0, 0, 0, 0, 0],\n",
       "       [1, 0, 1, 0, 1, 0, 1, 0],\n",
       "       [0, 0, 0, 0, 0, 0, 0, 0],\n",
       "       [1, 0, 1, 0, 1, 0, 1, 0]], dtype=int64)"
      ]
     },
     "execution_count": 63,
     "metadata": {},
     "output_type": "execute_result"
    }
   ],
   "source": [
    "#2-1\n",
    "Z = np.zeros((8,8), dtype=np.int64)\n",
    "Z[1::2,::2] = 1\n",
    "Z"
   ]
  },
  {
   "cell_type": "code",
   "execution_count": 64,
   "metadata": {},
   "outputs": [
    {
     "data": {
      "text/plain": [
       "array([[0, 1, 0, 1, 0, 1, 0, 1],\n",
       "       [1, 0, 1, 0, 1, 0, 1, 0],\n",
       "       [0, 1, 0, 1, 0, 1, 0, 1],\n",
       "       [1, 0, 1, 0, 1, 0, 1, 0],\n",
       "       [0, 1, 0, 1, 0, 1, 0, 1],\n",
       "       [1, 0, 1, 0, 1, 0, 1, 0],\n",
       "       [0, 1, 0, 1, 0, 1, 0, 1],\n",
       "       [1, 0, 1, 0, 1, 0, 1, 0]], dtype=int64)"
      ]
     },
     "execution_count": 64,
     "metadata": {},
     "output_type": "execute_result"
    }
   ],
   "source": [
    "#2-2\n",
    "Z[0::2,1::2] = 1\n",
    "Z"
   ]
  },
  {
   "cell_type": "code",
   "execution_count": 65,
   "metadata": {},
   "outputs": [],
   "source": [
    "#3\n",
    "six_five = np.array([[0+10*x, 1+10*x, 2+10*x, 3+10*x, 4+10*x, 5+10*x] for x in range(6)])"
   ]
  },
  {
   "cell_type": "code",
   "execution_count": 66,
   "metadata": {},
   "outputs": [
    {
     "data": {
      "text/plain": [
       "array([3, 4])"
      ]
     },
     "execution_count": 66,
     "metadata": {},
     "output_type": "execute_result"
    }
   ],
   "source": [
    "#3-1\n",
    "six_five[0,3:5]"
   ]
  },
  {
   "cell_type": "code",
   "execution_count": 67,
   "metadata": {},
   "outputs": [
    {
     "data": {
      "text/plain": [
       "array([[44, 45],\n",
       "       [54, 55]])"
      ]
     },
     "execution_count": 67,
     "metadata": {},
     "output_type": "execute_result"
    }
   ],
   "source": [
    "#3-2\n",
    "six_five[4:,4:]"
   ]
  },
  {
   "cell_type": "code",
   "execution_count": 68,
   "metadata": {},
   "outputs": [
    {
     "data": {
      "text/plain": [
       "array([ 2, 12, 22, 32, 42, 52])"
      ]
     },
     "execution_count": 68,
     "metadata": {},
     "output_type": "execute_result"
    }
   ],
   "source": [
    "#3-3\n",
    "six_five[::,2]"
   ]
  },
  {
   "cell_type": "code",
   "execution_count": 69,
   "metadata": {},
   "outputs": [
    {
     "data": {
      "text/plain": [
       "array([[ 2],\n",
       "       [12],\n",
       "       [22],\n",
       "       [32],\n",
       "       [42],\n",
       "       [52]])"
      ]
     },
     "execution_count": 69,
     "metadata": {},
     "output_type": "execute_result"
    }
   ],
   "source": [
    "#3-4\n",
    "x = six_five[::,2].reshape(6,1)\n",
    "x"
   ]
  },
  {
   "cell_type": "code",
   "execution_count": 70,
   "metadata": {},
   "outputs": [
    {
     "data": {
      "text/plain": [
       "array([0.89571274, 0.13687424, 0.        , 0.31437525, 1.        ])"
      ]
     },
     "execution_count": 70,
     "metadata": {},
     "output_type": "execute_result"
    }
   ],
   "source": [
    "#4\n",
    "Z = np.random.rand( 5 )\n",
    "Z = (Z-np.min(Z))/(max(Z)-min(Z))\n",
    "Z"
   ]
  },
  {
   "cell_type": "code",
   "execution_count": 71,
   "metadata": {},
   "outputs": [
    {
     "name": "stdout",
     "output_type": "stream",
     "text": [
      "[3. 5. 5. 8. 2. 7. 4. 2. 8. 1.]\n",
      "[3. 5. 5. 8. 2. 7. 4. 2. 8. 1.]\n",
      "[3. 5. 5. 8. 2. 7. 4. 2. 8. 1.]\n",
      "[3. 5. 5. 8. 2. 7. 4. 2. 8. 1.]\n"
     ]
    }
   ],
   "source": [
    "#5\n",
    "Z = np.random.uniform(0,10,10)\n",
    "print(Z//1)\n",
    "print(Z-Z%1)\n",
    "print(np.floor(Z))\n",
    "print(np.ceil(Z)-1)"
   ]
  },
  {
   "cell_type": "code",
   "execution_count": 72,
   "metadata": {},
   "outputs": [
    {
     "data": {
      "text/plain": [
       "array([   1,   -2,    3,   -4,    5,   -6,    7,   -8,    9,  -10,   11,\n",
       "        -12,   13,  -14,   15,  -16,   17,  -18,   19,  -20,   21,  -22,\n",
       "         23,  -24,   25,  -26,   27,  -28,   29,  -30,   31,  -32,   33,\n",
       "        -34,   35,  -36,   37,  -38,   39,  -40,   41,  -42,   43,  -44,\n",
       "         45,  -46,   47,  -48,   49,  -50,   51,  -52,   53,  -54,   55,\n",
       "        -56,   57,  -58,   59,  -60,   61,  -62,   63,  -64,   65,  -66,\n",
       "         67,  -68,   69,  -70,   71,  -72,   73,  -74,   75,  -76,   77,\n",
       "        -78,   79,  -80,   81,  -82,   83,  -84,   85,  -86,   87,  -88,\n",
       "         89,  -90,   91,  -92,   93,  -94,   95,  -96,   97,  -98,   99,\n",
       "       -100])"
      ]
     },
     "execution_count": 72,
     "metadata": {},
     "output_type": "execute_result"
    }
   ],
   "source": [
    "#6\n",
    "Z = np.arange(1,101)\n",
    "Z[1::2] = Z[1::2]*(-1)\n",
    "Z"
   ]
  },
  {
   "cell_type": "code",
   "execution_count": 73,
   "metadata": {},
   "outputs": [],
   "source": [
    "#7\n",
    "C = np.arange(20,31)\n",
    "F = (9/5)*C+32"
   ]
  },
  {
   "cell_type": "code",
   "execution_count": 74,
   "metadata": {},
   "outputs": [
    {
     "data": {
      "text/plain": [
       "array([[-1.0856306 ,  0.99734545,  0.2829785 , -1.50629471],\n",
       "       [-0.57860025,  1.65143654, -2.42667924, -0.42891263],\n",
       "       [ 1.26593626, -0.8667404 , -0.67888615, -0.09470897],\n",
       "       [ 1.49138963, -0.638902  , -0.44398196, -0.43435128],\n",
       "       [ 2.20593008,  2.18678609,  1.0040539 ,  0.3861864 ],\n",
       "       [ 0.73736858,  1.49073203, -0.93583387,  1.17582904]])"
      ]
     },
     "execution_count": 74,
     "metadata": {},
     "output_type": "execute_result"
    }
   ],
   "source": [
    "#8\n",
    "np.random.seed(123)\n",
    "mat = np.random.randn(6,4);mat"
   ]
  },
  {
   "cell_type": "code",
   "execution_count": 75,
   "metadata": {
    "scrolled": true
   },
   "outputs": [
    {
     "data": {
      "text/plain": [
       "array([[-1.0856306 ,  0.99734545,  0.2829785 , -1.50629471,  0.33768877],\n",
       "       [-0.57860025,  1.65143654, -2.42667924, -0.42891263,  0.56068263],\n",
       "       [ 1.26593626, -0.8667404 , -0.67888615, -0.09470897,  3.54641154],\n",
       "       [ 1.49138963, -0.638902  , -0.44398196, -0.43435128,  4.44326571],\n",
       "       [ 2.20593008,  2.18678609,  1.0040539 ,  0.3861864 ,  9.07869158],\n",
       "       [ 0.73736858,  1.49073203, -0.93583387,  1.17582904,  2.09042747]])"
      ]
     },
     "execution_count": 75,
     "metadata": {},
     "output_type": "execute_result"
    }
   ],
   "source": [
    "mat = np.hstack((mat, np.exp(mat[::,0]).reshape(6,1)))\n",
    "mat"
   ]
  },
  {
   "cell_type": "code",
   "execution_count": 76,
   "metadata": {},
   "outputs": [
    {
     "data": {
      "text/plain": [
       "array([[-2.08563060e+00,  1.99734545e+00, -7.17021502e-01,\n",
       "        -5.06294714e-01, -6.62311229e-01],\n",
       "       [-1.57860025e+00,  2.65143654e+00, -3.42667924e+00,\n",
       "         5.71087371e-01, -4.39317368e-01],\n",
       "       [ 2.65936259e-01,  1.33259598e-01, -1.67888615e+00,\n",
       "         9.05291031e-01,  2.54641154e+00],\n",
       "       [ 4.91389626e-01,  3.61098003e-01, -1.44398196e+00,\n",
       "         5.65648724e-01,  3.44326571e+00],\n",
       "       [ 1.20593008e+00,  3.18678609e+00,  4.05389788e-03,\n",
       "         1.38618640e+00,  8.07869158e+00],\n",
       "       [-2.62631424e-01,  2.49073203e+00, -1.93583387e+00,\n",
       "         2.17582904e+00,  1.09042747e+00]])"
      ]
     },
     "execution_count": 76,
     "metadata": {},
     "output_type": "execute_result"
    }
   ],
   "source": [
    "#9\n",
    "mat += np.array([-1,1,-1,1,-1])\n",
    "mat"
   ]
  },
  {
   "cell_type": "code",
   "execution_count": 77,
   "metadata": {},
   "outputs": [
    {
     "data": {
      "text/plain": [
       "array([[-2.08563060e-01,  1.99734545e-01, -7.17021502e-02,\n",
       "        -5.06294714e-02, -6.62311229e-02],\n",
       "       [-1.57860025e-01,  2.65143654e-01, -3.42667924e-01,\n",
       "         5.71087371e-02, -4.39317368e-02],\n",
       "       [ 2.65936259e-02,  1.33259598e-02, -1.67888615e-01,\n",
       "         9.05291031e-02,  2.54641154e-01],\n",
       "       [ 4.91389626e+00,  3.61098003e+00, -1.44398196e+01,\n",
       "         5.65648724e+00,  3.44326571e+01],\n",
       "       [ 1.20593008e+01,  3.18678609e+01,  4.05389788e-02,\n",
       "         1.38618640e+01,  8.07869158e+01],\n",
       "       [-2.62631424e+00,  2.49073203e+01, -1.93583387e+01,\n",
       "         2.17582904e+01,  1.09042747e+01]])"
      ]
     },
     "execution_count": 77,
     "metadata": {},
     "output_type": "execute_result"
    }
   ],
   "source": [
    "#10\n",
    "mat[0:3,::] *= 0.1\n",
    "mat[3:,::] *= 10\n",
    "mat"
   ]
  },
  {
   "cell_type": "code",
   "execution_count": 78,
   "metadata": {},
   "outputs": [
    {
     "data": {
      "text/plain": [
       "array([ 2.47024494, 14.25915016, -0.11979538,  9.75917562, 22.66846589])"
      ]
     },
     "execution_count": 78,
     "metadata": {},
     "output_type": "execute_result"
    }
   ],
   "source": [
    "#11\n",
    "np.percentile(mat,70, axis=0)"
   ]
  },
  {
   "cell_type": "code",
   "execution_count": 79,
   "metadata": {},
   "outputs": [
    {
     "data": {
      "text/plain": [
       "array([ 0.25464115,  0.0905291 ,  0.02659363,  0.01332596, -0.16788862])"
      ]
     },
     "execution_count": 79,
     "metadata": {},
     "output_type": "execute_result"
    }
   ],
   "source": [
    "#12 can use index directly after sorting!\n",
    "np.sort(mat[2])[::-1]"
   ]
  },
  {
   "cell_type": "code",
   "execution_count": 80,
   "metadata": {},
   "outputs": [
    {
     "name": "stdout",
     "output_type": "stream",
     "text": [
      "[0 0 0 4 4 3]\n"
     ]
    }
   ],
   "source": [
    "#13\n",
    "print(np.sum((np.exp(mat) > 3), axis=1))"
   ]
  },
  {
   "cell_type": "code",
   "execution_count": 81,
   "metadata": {},
   "outputs": [
    {
     "data": {
      "text/plain": [
       "(array([0, 1, 2, 3, 3, 4, 4, 4, 4, 4, 5, 5], dtype=int64),\n",
       " array([2, 2, 2, 0, 4, 0, 1, 2, 3, 4, 1, 3], dtype=int64))"
      ]
     },
     "execution_count": 81,
     "metadata": {},
     "output_type": "execute_result"
    }
   ],
   "source": [
    "#14\n",
    "np.nonzero(mat > np.mean(mat, axis=0))"
   ]
  },
  {
   "cell_type": "code",
   "execution_count": 84,
   "metadata": {},
   "outputs": [
    {
     "data": {
      "text/plain": [
       "array([[253692, 191419, 199215, ..., 199095, 193923, 204098],\n",
       "       [191419, 246536, 197191, ..., 198781, 193681, 196092],\n",
       "       [199215, 197191, 264463, ..., 208696, 197933, 212706],\n",
       "       ...,\n",
       "       [199095, 198781, 208696, ..., 264895, 202675, 217871],\n",
       "       [193923, 193681, 197933, ..., 202675, 250985, 206761],\n",
       "       [204098, 196092, 212706, ..., 217871, 206761, 274775]])"
      ]
     },
     "execution_count": 84,
     "metadata": {},
     "output_type": "execute_result"
    }
   ],
   "source": [
    "#15\n",
    "np.random.seed(123)\n",
    "M = np.random.randint(1, 50, (300,300))\n",
    "M@np.transpose(M)"
   ]
  },
  {
   "cell_type": "code",
   "execution_count": 85,
   "metadata": {},
   "outputs": [
    {
     "data": {
      "text/plain": [
       "inf"
      ]
     },
     "execution_count": 85,
     "metadata": {},
     "output_type": "execute_result"
    }
   ],
   "source": [
    "#16\n",
    "np.linalg.det(M)"
   ]
  },
  {
   "cell_type": "code",
   "execution_count": 87,
   "metadata": {},
   "outputs": [
    {
     "data": {
      "text/plain": [
       "array([[-0.00110814, -0.00494781, -0.00146918, ...,  0.0037647 ,\n",
       "         0.00075862, -0.00368261],\n",
       "       [-0.00541606, -0.01500507,  0.00097442, ...,  0.00411907,\n",
       "         0.00455868, -0.00887087],\n",
       "       [ 0.00294191, -0.00543342, -0.00306643, ...,  0.00227675,\n",
       "         0.00207435, -0.0010138 ],\n",
       "       ...,\n",
       "       [-0.00235237,  0.0061028 ,  0.00135258, ...,  0.00197801,\n",
       "        -0.0011737 , -0.00240741],\n",
       "       [ 0.00214432, -0.00030543, -0.00279724, ..., -0.00140041,\n",
       "         0.00186099,  0.00542004],\n",
       "       [-0.00240177,  0.0036928 ,  0.0037058 , ...,  0.00328506,\n",
       "        -0.0027742 , -0.00767131]])"
      ]
     },
     "execution_count": 87,
     "metadata": {},
     "output_type": "execute_result"
    }
   ],
   "source": [
    "#17\n",
    "np.linalg.inv(M)"
   ]
  }
 ],
 "metadata": {
  "kernelspec": {
   "display_name": "Python 3",
   "language": "python",
   "name": "python3"
  }
 },
 "nbformat": 4,
 "nbformat_minor": 2
}
