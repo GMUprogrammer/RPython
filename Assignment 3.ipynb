{
 "cells": [
  {
   "cell_type": "code",
   "execution_count": 5,
   "metadata": {},
   "outputs": [
    {
     "data": {
      "text/plain": [
       "[1045,\n",
       " 1100,\n",
       " 1155,\n",
       " 1210,\n",
       " 1265,\n",
       " 1320,\n",
       " 1375,\n",
       " 1430,\n",
       " 1485,\n",
       " 1540,\n",
       " 1595,\n",
       " 1650,\n",
       " 1705,\n",
       " 1760,\n",
       " 1815,\n",
       " 1870,\n",
       " 1925,\n",
       " 1980]"
      ]
     },
     "execution_count": 5,
     "metadata": {},
     "output_type": "execute_result"
    }
   ],
   "source": [
    "#Q1\n",
    "new_list = [x for x in range(1000, 2001) if x % 11 == 0 and x % 5 == 0]\n",
    "new_list"
   ]
  },
  {
   "cell_type": "code",
   "execution_count": 11,
   "metadata": {},
   "outputs": [
    {
     "name": "stdout",
     "output_type": "stream",
     "text": [
      "Number of even numbers :2\n",
      "Number of odd numbers :3\n"
     ]
    }
   ],
   "source": [
    "#Q2\n",
    "def count_num(numbers):\n",
    "    even = 0\n",
    "    odd = 0\n",
    "    for x in numbers:\n",
    "        if x % 2 == 0:\n",
    "            even += 1\n",
    "        else:\n",
    "            odd += 1\n",
    "    print(\"Number of even numbers :\" + str(even))\n",
    "    print(\"Number of odd numbers :\" + str(odd))\n",
    "\n",
    "count_num([1,2,3,4,5])"
   ]
  },
  {
   "cell_type": "code",
   "execution_count": 17,
   "metadata": {},
   "outputs": [
    {
     "name": "stdout",
     "output_type": "stream",
     "text": [
      "1\n",
      "1\n",
      "2\n",
      "3\n",
      "5\n",
      "8\n",
      "13\n",
      "21\n",
      "34\n",
      "55\n",
      "89\n"
     ]
    }
   ],
   "source": [
    "#Q3\n",
    "x, y = 0, 1\n",
    "\n",
    "while y <= 100:\n",
    "    print(y)\n",
    "    y_before = y\n",
    "    y = x + y\n",
    "    x = y_before"
   ]
  },
  {
   "cell_type": "code",
   "execution_count": 81,
   "metadata": {},
   "outputs": [
    {
     "data": {
      "text/plain": [
       "[[0, 0, 0, 0], [0, 1, 2, 3], [0, 2, 4, 6]]"
      ]
     },
     "execution_count": 81,
     "metadata": {},
     "output_type": "execute_result"
    }
   ],
   "source": [
    "#Q4 - is this the only way?\n",
    "def list_gen(m,n):\n",
    "    new_list = []\n",
    "    for x in range(m):\n",
    "        new_list.append([y*x for y in range(n)])\n",
    "    return new_list\n",
    "\n",
    "list_gen(3,4)"
   ]
  },
  {
   "cell_type": "code",
   "execution_count": 57,
   "metadata": {},
   "outputs": [
    {
     "name": "stdout",
     "output_type": "stream",
     "text": [
      "1 x 1 = 1\n",
      "1 x 2 = 2\n",
      "1 x 3 = 3\n",
      "1 x 4 = 4\n",
      "1 x 5 = 5\n",
      "1 x 6 = 6\n",
      "1 x 7 = 7\n",
      "1 x 8 = 8\n",
      "1 x 9 = 9\n"
     ]
    }
   ],
   "source": [
    "#Q5\n",
    "def multi_T(number=1):\n",
    "    for x in range(1, 10):\n",
    "        print(str(number) + \" x \" + str(x) + \" = \" + str(number*x))\n",
    "        \n",
    "multi_T()"
   ]
  },
  {
   "cell_type": "code",
   "execution_count": 74,
   "metadata": {},
   "outputs": [
    {
     "name": "stdout",
     "output_type": "stream",
     "text": [
      "30\n",
      "15.0\n",
      "46.0\n",
      "23.0\n",
      "70.0\n",
      "35.0\n",
      "106.0\n",
      "53.0\n",
      "160.0\n",
      "80.0\n",
      "40.0\n",
      "20.0\n",
      "10.0\n",
      "5.0\n",
      "16.0\n",
      "8.0\n",
      "4.0\n",
      "2.0\n",
      "1.0\n"
     ]
    }
   ],
   "source": [
    "#Q6\n",
    "def collatz(x=30):\n",
    "    print(x)\n",
    "    while x != 1:\n",
    "        if x % 2 == 0:\n",
    "            x = x/2\n",
    "        else:\n",
    "            x = 3*x + 1\n",
    "        print(x)\n",
    "\n",
    "collatz(30)"
   ]
  },
  {
   "cell_type": "code",
   "execution_count": 87,
   "metadata": {},
   "outputs": [
    {
     "data": {
      "text/plain": [
       "[[1, 5],\n",
       " [1, 6],\n",
       " [1, 7],\n",
       " [1, 8],\n",
       " [2, 5],\n",
       " [2, 6],\n",
       " [2, 7],\n",
       " [2, 8],\n",
       " [3, 5],\n",
       " [3, 6],\n",
       " [3, 7],\n",
       " [3, 8],\n",
       " [4, 5],\n",
       " [4, 6],\n",
       " [4, 7],\n",
       " [4, 8]]"
      ]
     },
     "execution_count": 87,
     "metadata": {},
     "output_type": "execute_result"
    }
   ],
   "source": [
    "#Q7-1\n",
    "def cartesian(x, y):\n",
    "    new_list = []\n",
    "    for a in x:\n",
    "        for b in y:\n",
    "            new_list.append([a,b])\n",
    "    return new_list\n",
    "\n",
    "cartesian([1,2,3,4], [5,6,7,8])"
   ]
  },
  {
   "cell_type": "code",
   "execution_count": 98,
   "metadata": {},
   "outputs": [
    {
     "data": {
      "text/plain": [
       "[[1, 7],\n",
       " [1, 8],\n",
       " [2, 6],\n",
       " [2, 7],\n",
       " [2, 8],\n",
       " [3, 5],\n",
       " [3, 6],\n",
       " [3, 7],\n",
       " [3, 8],\n",
       " [4, 5],\n",
       " [4, 6],\n",
       " [4, 7],\n",
       " [4, 8]]"
      ]
     },
     "execution_count": 98,
     "metadata": {},
     "output_type": "execute_result"
    }
   ],
   "source": [
    "#Q7-2\n",
    "[x for x in cartesian([1,2,3,4], [5,6,7,8]) if x[0] +x[1] >= 8]"
   ]
  },
  {
   "cell_type": "code",
   "execution_count": 109,
   "metadata": {},
   "outputs": [
    {
     "name": "stdout",
     "output_type": "stream",
     "text": [
      "When you enterpython 3.2\n",
      "Letters 6\n",
      "Digits 2\n"
     ]
    }
   ],
   "source": [
    "#Q8\n",
    "sample = input(\"When you enter\")\n",
    "alpha_num = 0\n",
    "num_num = 0\n",
    "for x in sample:\n",
    "    if x.isalpha():\n",
    "        alpha_num += 1\n",
    "    if x.isnumeric():\n",
    "        num_num +=  1\n",
    "print(\"Letters \" + str(alpha_num))\n",
    "print(\"Digits \" + str(num_num))"
   ]
  },
  {
   "cell_type": "code",
   "execution_count": 62,
   "metadata": {},
   "outputs": [],
   "source": [
    "def is_prime(b):\n",
    "    for a in range(2, b):\n",
    "        if b % a == 0:\n",
    "            break\n",
    "        if a == b-1:\n",
    "            print(b)"
   ]
  }
 ],
 "metadata": {
  "kernelspec": {
   "display_name": "Python 3",
   "language": "python",
   "name": "python3"
  },
  "language_info": {
   "codemirror_mode": {
    "name": "ipython",
    "version": 3
   },
   "file_extension": ".py",
   "mimetype": "text/x-python",
   "name": "python",
   "nbconvert_exporter": "python",
   "pygments_lexer": "ipython3",
   "version": "3.7.1"
  }
 },
 "nbformat": 4,
 "nbformat_minor": 2
}
