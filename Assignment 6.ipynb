{
 "cells": [
  {
   "cell_type": "code",
   "execution_count": 3,
   "metadata": {},
   "outputs": [],
   "source": [
    "import numpy as np"
   ]
  },
  {
   "cell_type": "code",
   "execution_count": 4,
   "metadata": {},
   "outputs": [],
   "source": [
    "np.random.seed(123)\n",
    "aMat = np.random.randint(0, 100, (6, 10))"
   ]
  },
  {
   "cell_type": "code",
   "execution_count": 27,
   "metadata": {},
   "outputs": [
    {
     "data": {
      "text/plain": [
       "array([[ 66,  92,  98,  17,  83,  57,  86,  97,  96,  47, 739],\n",
       "       [ 73,  32,  46,  96,  25,  83, 219,  36,  96,  80, 786],\n",
       "       [ 68,  49,  55,  67,   2,  84,  39,  66,  84,  47, 561],\n",
       "       [ 61, 215,   7,  99,  92,  52,  97,  85,  94,  27, 829],\n",
       "       [ 34,  97,  76,  40,   3,  69,  64,  75,  34,  58, 550],\n",
       "       [ 10,  22,  77,  18,  15,  27,  30,  52,  70,  26, 347]])"
      ]
     },
     "execution_count": 27,
     "metadata": {},
     "output_type": "execute_result"
    }
   ],
   "source": [
    "aMat"
   ]
  },
  {
   "cell_type": "code",
   "execution_count": 28,
   "metadata": {},
   "outputs": [
    {
     "data": {
      "text/plain": [
       "array([1, 1, 1, 1, 0, 1, 1, 1, 1, 0, 1])"
      ]
     },
     "execution_count": 28,
     "metadata": {},
     "output_type": "execute_result"
    }
   ],
   "source": [
    "#1-1\n",
    "aVec = (np.mean(aMat, 0 ) >50)*1\n",
    "aVec =(np.mean(aMat, 0 )> 50)*1\n",
    "aVec"
   ]
  },
  {
   "cell_type": "code",
   "execution_count": 29,
   "metadata": {},
   "outputs": [
    {
     "data": {
      "text/plain": [
       "array([[ 66,  92,  98,  17,  83,  57,  86,  97,  96,  47, 739],\n",
       "       [ 61, 215,   7,  99,  92,  52,  97,  85,  94,  27, 829]])"
      ]
     },
     "execution_count": 29,
     "metadata": {},
     "output_type": "execute_result"
    }
   ],
   "source": [
    "aMat[(aMat[:,4]>50 )|(aMat[:,6] <30),:]"
   ]
  },
  {
   "cell_type": "code",
   "execution_count": 30,
   "metadata": {},
   "outputs": [
    {
     "data": {
      "text/plain": [
       "array([[ 66,  92,  98,  17,  83,  57,  86,  97,  96,  47, 739],\n",
       "       [ 73,  32,  46,  96,  25,  83, 999,  36,  96,  80, 786],\n",
       "       [ 68,  49,  55,  67,   2,  84,  39,  66,  84,  47, 561],\n",
       "       [ 61, 999,   7,  99,  92,  52,  97,  85,  94,  27, 829],\n",
       "       [ 34,  97,  76,  40,   3,  69,  64,  75,  34,  58, 550],\n",
       "       [ 10,  22,  77,  18,  15,  27,  30,  52,  70,  26, 347]])"
      ]
     },
     "execution_count": 30,
     "metadata": {},
     "output_type": "execute_result"
    }
   ],
   "source": [
    "# 1-3\n",
    "aMat[[3,1],[1,6]]= 999\n",
    "aMat"
   ]
  },
  {
   "cell_type": "code",
   "execution_count": 31,
   "metadata": {},
   "outputs": [
    {
     "data": {
      "text/plain": [
       "array([[ 66,  92,  98,  17,  83,  57,  86,  97,  96,  47, 739],\n",
       "       [ 68,  49,  55,  67,   2,  84,  39,  66,  84,  47, 561],\n",
       "       [ 34,  97,  76,  40,   3,  69,  64,  75,  34,  58, 550],\n",
       "       [ 10,  22,  77,  18,  15,  27,  30,  52,  70,  26, 347]])"
      ]
     },
     "execution_count": 31,
     "metadata": {},
     "output_type": "execute_result"
    }
   ],
   "source": [
    "# 1-4 주의\n",
    "aMat[~np.any( aMat==999, axis=1 ), :]"
   ]
  },
  {
   "cell_type": "code",
   "execution_count": 32,
   "metadata": {},
   "outputs": [
    {
     "data": {
      "text/plain": [
       "array([192.73451959, 146.78927382, 144.42739604,  92.24222514])"
      ]
     },
     "execution_count": 32,
     "metadata": {},
     "output_type": "execute_result"
    }
   ],
   "source": [
    "np.mean(aMat[~np.any(aMat== 999, 1),:], 1)\n",
    "np.std(aMat[~np.any(aMat== 999, 1),:], 1)"
   ]
  },
  {
   "cell_type": "code",
   "execution_count": 31,
   "metadata": {},
   "outputs": [
    {
     "data": {
      "text/plain": [
       "array([[ 66,  92,  98,  17,  83,  57,  86,  97,  96,  47],\n",
       "       [ 73,  32,  46,  96,  25,  83, 219,  36,  96,  80],\n",
       "       [ 68,  49,  55,  67,   2,  84,  39,  66,  84,  47],\n",
       "       [ 61, 215,   7,  99,  92,  52,  97,  85,  94,  27],\n",
       "       [ 34,  97,  76,  40,   3,  69,  64,  75,  34,  58],\n",
       "       [ 10,  22,  77,  18,  15,  27,  30,  52,  70,  26]])"
      ]
     },
     "execution_count": 31,
     "metadata": {},
     "output_type": "execute_result"
    }
   ],
   "source": [
    "# 1-5 주의\n",
    "aMat[aMat == 999] = np.mean(aMat, 0)[np.nonzero( aMat==999 )[1]]\n",
    "aMat"
   ]
  },
  {
   "cell_type": "code",
   "execution_count": 38,
   "metadata": {},
   "outputs": [],
   "source": [
    "# 1-6 주의 - sum 걸면 무조건 10, 으로 바뀝니다.\n",
    "aMat2 = np.vstack((aMat, np.sum(aMat, 0)))"
   ]
  },
  {
   "cell_type": "code",
   "execution_count": 52,
   "metadata": {},
   "outputs": [],
   "source": [
    "aMat2 = np.hstack((aMat2, np.sum(aMat2, 1)[:,np.newaxis]))"
   ]
  },
  {
   "cell_type": "code",
   "execution_count": 53,
   "metadata": {},
   "outputs": [
    {
     "data": {
      "text/plain": [
       "array([[  66,   92,   98,   17,   83,   57,   86,   97,   96,   47,  739],\n",
       "       [  73,   32,   46,   96,   25,   83,  219,   36,   96,   80,  786],\n",
       "       [  68,   49,   55,   67,    2,   84,   39,   66,   84,   47,  561],\n",
       "       [  61,  215,    7,   99,   92,   52,   97,   85,   94,   27,  829],\n",
       "       [  34,   97,   76,   40,    3,   69,   64,   75,   34,   58,  550],\n",
       "       [  10,   22,   77,   18,   15,   27,   30,   52,   70,   26,  347],\n",
       "       [ 312,  507,  359,  337,  220,  372,  535,  411,  474,  285, 3812]])"
      ]
     },
     "execution_count": 53,
     "metadata": {},
     "output_type": "execute_result"
    }
   ],
   "source": [
    "aMat2"
   ]
  },
  {
   "cell_type": "code",
   "execution_count": 42,
   "metadata": {},
   "outputs": [],
   "source": [
    "np.random.seed(123)\n",
    "MAT = np.random.exponential(scale=1/5, size=(10, 7))\n",
    "MAT= np.around(MAT, decimals=3 )"
   ]
  },
  {
   "cell_type": "code",
   "execution_count": 59,
   "metadata": {},
   "outputs": [
    {
     "data": {
      "text/plain": [
       "array([0.79 , 0.577, 0.848])"
      ]
     },
     "execution_count": 59,
     "metadata": {},
     "output_type": "execute_result"
    }
   ],
   "source": [
    "# 2-1\n",
    "Q1 = np.percentile(MAT, 25)\n",
    "Q3 = np.percentile(MAT, 75)\n",
    "n1 = Q1-1.5*(Q3-Q1)\n",
    "n2 = Q3+1.5*(Q3-Q1)\n",
    "MAT[(MAT<n1)|(MAT>n2)]"
   ]
  },
  {
   "cell_type": "code",
   "execution_count": 49,
   "metadata": {},
   "outputs": [
    {
     "data": {
      "text/plain": [
       "array([0.79 , 0.577, 0.848])"
      ]
     },
     "execution_count": 49,
     "metadata": {},
     "output_type": "execute_result"
    }
   ],
   "source": [
    "q1 = np.percentile(MAT, 25)\n",
    "q3 = np.percentile(MAT, 75)\n",
    "n1 = q1 - 3/2*(q3-q1)\n",
    "n2 = q3 + 3/2*(q3-q1)\n",
    "MAT[(MAT>n2)|(MAT<n1)]"
   ]
  },
  {
   "cell_type": "code",
   "execution_count": 52,
   "metadata": {},
   "outputs": [
    {
     "data": {
      "text/plain": [
       "(array([7], dtype=int64), array([3], dtype=int64))"
      ]
     },
     "execution_count": 52,
     "metadata": {},
     "output_type": "execute_result"
    }
   ],
   "source": [
    "# 2-2\n",
    "np.nonzero(np.abs(MAT-np.mean(MAT)) == np.min(np.abs(MAT-np.mean(MAT))))"
   ]
  },
  {
   "cell_type": "code",
   "execution_count": 118,
   "metadata": {},
   "outputs": [
    {
     "data": {
      "text/plain": [
       "array([[0.19 , 0.026, 0.35 , 0.185, 0.158, 0.084, 0.073],\n",
       "       [0.238, 0.067, 0.051, 0.16 , 0.254, 0.11 , 0.79 ],\n",
       "       [0.076, 0.107, 0.402, 0.058, 0.132, 0.848, 0.147],\n",
       "       [0.075, 0.111, 0.448, 0.577, 0.139, 0.196, 0.025],\n",
       "       [0.231, 0.131, 0.1  , 0.084, 0.261, 0.115, 0.012],\n",
       "       [0.07 , 0.199, 0.019, 0.114, 0.113, 0.136, 0.111],\n",
       "       [0.108, 0.229, 0.417, 0.143, 0.221, 0.176, 0.196],\n",
       "       [0.379, 0.258, 0.189, 0.256, 0.078, 0.09 , 0.052],\n",
       "       [0.102, 0.268, 0.04 , 0.039, 0.152, 0.152, 0.201],\n",
       "       [0.225, 0.369, 0.017, 0.289, 0.056, 0.043, 0.17 ]])"
      ]
     },
     "execution_count": 118,
     "metadata": {},
     "output_type": "execute_result"
    }
   ],
   "source": [
    "#2-3\n",
    "MAT[np.argsort(MAT[:,1]),:]"
   ]
  },
  {
   "cell_type": "code",
   "execution_count": 56,
   "metadata": {},
   "outputs": [
    {
     "data": {
      "text/plain": [
       "array([[0.254, 0.238, 0.067, 0.79 , 0.16 , 0.11 , 0.051],\n",
       "       [0.261, 0.231, 0.131, 0.012, 0.084, 0.115, 0.1  ],\n",
       "       [0.152, 0.102, 0.268, 0.201, 0.039, 0.152, 0.04 ],\n",
       "       [0.078, 0.379, 0.258, 0.052, 0.256, 0.09 , 0.189],\n",
       "       [0.113, 0.07 , 0.199, 0.111, 0.114, 0.136, 0.019],\n",
       "       [0.139, 0.075, 0.111, 0.025, 0.577, 0.196, 0.448],\n",
       "       [0.132, 0.076, 0.107, 0.147, 0.058, 0.848, 0.402],\n",
       "       [0.158, 0.19 , 0.026, 0.073, 0.185, 0.084, 0.35 ],\n",
       "       [0.221, 0.108, 0.229, 0.196, 0.143, 0.176, 0.417],\n",
       "       [0.056, 0.225, 0.369, 0.17 , 0.289, 0.043, 0.017]])"
      ]
     },
     "execution_count": 56,
     "metadata": {},
     "output_type": "execute_result"
    }
   ],
   "source": [
    "#2-4\n",
    "MAT[:,np.argsort(np.mean(MAT,0))]"
   ]
  },
  {
   "cell_type": "code",
   "execution_count": 67,
   "metadata": {},
   "outputs": [
    {
     "data": {
      "text/plain": [
       "array([0.067, 0.16 , 0.254, 0.131, 0.084, 0.261])"
      ]
     },
     "execution_count": 67,
     "metadata": {},
     "output_type": "execute_result"
    }
   ],
   "source": [
    "#2-5 주의\n",
    "MAT[[[0],[1]],[1,3,4]].reshape(6,)"
   ]
  },
  {
   "cell_type": "code",
   "execution_count": 68,
   "metadata": {},
   "outputs": [],
   "source": [
    "MAT[(MAT<n1)|(MAT>n2)] = np.nan"
   ]
  },
  {
   "cell_type": "code",
   "execution_count": 73,
   "metadata": {},
   "outputs": [
    {
     "data": {
      "text/plain": [
       "array([[0.238, 0.067, 0.051, 0.16 , 0.254, 0.11 ,   nan],\n",
       "       [0.075, 0.111, 0.448,   nan, 0.139, 0.196, 0.025],\n",
       "       [0.076, 0.107, 0.402, 0.058, 0.132,   nan, 0.147]])"
      ]
     },
     "execution_count": 73,
     "metadata": {},
     "output_type": "execute_result"
    }
   ],
   "source": [
    "#주의\n",
    "MAT[np.any(np.isnan(MAT), 1)]"
   ]
  },
  {
   "cell_type": "code",
   "execution_count": null,
   "metadata": {},
   "outputs": [],
   "source": []
  }
 ],
 "metadata": {
  "kernelspec": {
   "display_name": "Python 3",
   "language": "python",
   "name": "python3"
  },
  "language_info": {
   "codemirror_mode": {
    "name": "ipython",
    "version": 3
   },
   "file_extension": ".py",
   "mimetype": "text/x-python",
   "name": "python",
   "nbconvert_exporter": "python",
   "pygments_lexer": "ipython3",
   "version": "3.7.1"
  }
 },
 "nbformat": 4,
 "nbformat_minor": 2
}
