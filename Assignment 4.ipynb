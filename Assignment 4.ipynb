{
 "cells": [
  {
   "cell_type": "code",
   "execution_count": 13,
   "metadata": {},
   "outputs": [
    {
     "data": {
      "text/plain": [
       "2"
      ]
     },
     "execution_count": 13,
     "metadata": {},
     "output_type": "execute_result"
    }
   ],
   "source": [
    "# Q1\n",
    "\n",
    "def count_odd(L):\n",
    "    i = 0\n",
    "    for x in L:\n",
    "        if x%2 != 0:\n",
    "            i += 1\n",
    "    return i # function finishes when it reaches return\n",
    "\n",
    "count_odd(L=[1,2,3,4])"
   ]
  },
  {
   "cell_type": "code",
   "execution_count": 24,
   "metadata": {},
   "outputs": [
    {
     "data": {
      "text/plain": [
       "1.414213562373095"
      ]
     },
     "execution_count": 24,
     "metadata": {},
     "output_type": "execute_result"
    }
   ],
   "source": [
    "# Q2\n",
    "def mySqrt(n):\n",
    "    new_guess = n/2\n",
    "    old_guess = 0\n",
    "    while abs(old_guess - new_guess) > 10**-15:\n",
    "        old_guess = new_guess\n",
    "        new_guess = (1/2) * (old_guess + (n/old_guess))\n",
    "    return  new_guess\n",
    "\n",
    "mySqrt(2)"
   ]
  },
  {
   "cell_type": "code",
   "execution_count": 38,
   "metadata": {},
   "outputs": [
    {
     "ename": "TypeError",
     "evalue": "grading() missing 1 required positional argument: 's'",
     "output_type": "error",
     "traceback": [
      "\u001b[1;31m---------------------------------------------------------------------------\u001b[0m",
      "\u001b[1;31mTypeError\u001b[0m                                 Traceback (most recent call last)",
      "\u001b[1;32m<ipython-input-38-082bdf274bf1>\u001b[0m in \u001b[0;36m<module>\u001b[1;34m\u001b[0m\n\u001b[0;32m     22\u001b[0m     \u001b[1;32mreturn\u001b[0m \u001b[0msen\u001b[0m \u001b[1;33m+\u001b[0m \u001b[0mgrade\u001b[0m\u001b[1;33m\u001b[0m\u001b[1;33m\u001b[0m\u001b[0m\n\u001b[0;32m     23\u001b[0m \u001b[1;33m\u001b[0m\u001b[0m\n\u001b[1;32m---> 24\u001b[1;33m \u001b[0mgrading\u001b[0m\u001b[1;33m(\u001b[0m\u001b[1;33m)\u001b[0m\u001b[1;33m\u001b[0m\u001b[1;33m\u001b[0m\u001b[0m\n\u001b[0m",
      "\u001b[1;31mTypeError\u001b[0m: grading() missing 1 required positional argument: 's'"
     ]
    }
   ],
   "source": [
    "# Q3 - (1) para=None is essential. Otherwise the function returns error without a para\n",
    "\n",
    "def grading(s=None):\n",
    "    grade = \"\"\n",
    "    \n",
    "    sen = \"Grade is \"\n",
    "    if s == None:\n",
    "        return \"Input your score!\"\n",
    "    elif s > 90 and s <= 100:\n",
    "        grade = \" A !\"\n",
    "    elif s > 80 and s <= 90:\n",
    "        grade = \" B !\"\n",
    "    elif s > 70 and s <= 80:\n",
    "        grade = \" C !\"\n",
    "    elif s > 60 and s <= 70:\n",
    "        grade = \" D !\"\n",
    "    elif s >= 0 and s <= 60:\n",
    "        grade = \" F !\"\n",
    "    else:\n",
    "        return \"Score must be a number between 0 and 100!!\"\n",
    "    \n",
    "    return sen + grade\n",
    "    \n",
    "grading()"
   ]
  },
  {
   "cell_type": "code",
   "execution_count": 55,
   "metadata": {},
   "outputs": [
    {
     "data": {
      "text/plain": [
       "'Input your Score!!'"
      ]
     },
     "execution_count": 55,
     "metadata": {},
     "output_type": "execute_result"
    }
   ],
   "source": [
    "# Q3 -(2)\n",
    "\n",
    "def grading(score=None, maxscore=100):\n",
    "    grade = \"\"\n",
    "    sen = \"Grade is \"\n",
    "    \n",
    "    if score == None:\n",
    "        return \"Input your Score!!\"\n",
    "    else:\n",
    "        s = score / maxscore * 100\n",
    "    \n",
    "    if s > 90 and s <= 100:\n",
    "        grade = \" A !!\"\n",
    "    elif s > 80 and s <= 90:\n",
    "        grade = \" B !!\"\n",
    "    elif s > 70 and s <= 80:\n",
    "        grade = \" C !!\"\n",
    "    elif s > 60 and s <= 70:\n",
    "        grade = \" D !\"\n",
    "    elif s >= 0 and s <= 60:\n",
    "        grade = \" F !!\"\n",
    "    else:\n",
    "        return \"Score must be a number between 0 and \" + str(maxscore) + \"!!!\"\n",
    "    \n",
    "    return sen + grade\n",
    "    \n",
    "grading(maxscore=1)"
   ]
  },
  {
   "cell_type": "code",
   "execution_count": 59,
   "metadata": {},
   "outputs": [
    {
     "ename": "SyntaxError",
     "evalue": "positional argument follows keyword argument (<ipython-input-59-a784419d578d>, line 6)",
     "output_type": "error",
     "traceback": [
      "\u001b[1;36m  File \u001b[1;32m\"<ipython-input-59-a784419d578d>\"\u001b[1;36m, line \u001b[1;32m6\u001b[0m\n\u001b[1;33m    grading(score=0.81, 1)\u001b[0m\n\u001b[1;37m                       ^\u001b[0m\n\u001b[1;31mSyntaxError\u001b[0m\u001b[1;31m:\u001b[0m positional argument follows keyword argument\n"
     ]
    }
   ],
   "source": [
    "# Q3 -(3)\n",
    "\n",
    "grading(5, score=3)\n",
    "# this returns an error because the argument for score has been entered twice\n",
    "\n",
    "grading(score=0.81, 1)\n",
    "# this returns an error because the keyword argument came before the positional argument"
   ]
  },
  {
   "cell_type": "code",
   "execution_count": 78,
   "metadata": {},
   "outputs": [
    {
     "data": {
      "text/plain": [
       "'number 3 is wrong. Since there is no content in the init.py file, we cannot access the module echo that we did not specified to import, even if the module echo is under the module game.'"
      ]
     },
     "execution_count": 78,
     "metadata": {},
     "output_type": "execute_result"
    }
   ],
   "source": [
    "# Q4\n",
    "\n",
    "'''number 3 is wrong. Since there is no content in the init.py file, we cannot access the module echo that we did not specified to import, even if the module echo is under the module game.'''"
   ]
  },
  {
   "cell_type": "code",
   "execution_count": null,
   "metadata": {},
   "outputs": [],
   "source": []
  }
 ],
 "metadata": {
  "kernelspec": {
   "display_name": "Python 3",
   "language": "python",
   "name": "python3"
  },
  "language_info": {
   "codemirror_mode": {
    "name": "ipython",
    "version": 3
   },
   "file_extension": ".py",
   "mimetype": "text/x-python",
   "name": "python",
   "nbconvert_exporter": "python",
   "pygments_lexer": "ipython3",
   "version": "3.7.1"
  }
 },
 "nbformat": 4,
 "nbformat_minor": 2
}
